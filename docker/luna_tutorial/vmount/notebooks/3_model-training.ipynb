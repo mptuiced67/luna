{
 "cells": [
  {
   "cell_type": "markdown",
   "metadata": {},
   "source": [
    "# Model Training Tutorial\n",
    "\n",
    "Welcome to the model training tutorial! In this tutorial, we will train a neural network to classify tiles from our toy data set and visualize its efficacy. Our model is essentially a wrapper around PyTorch's ResNet 18 deep residual network; the LUNA team modified it to suit their work with tiling the slides. \n"
   ]
  },
  {
   "cell_type": "code",
   "execution_count": 1,
   "metadata": {},
   "outputs": [],
   "source": [
    "# setup home directory\n",
    "import os\n",
    "HOME = os.environ['HOME']"
   ]
  },
  {
   "cell_type": "code",
   "execution_count": 2,
   "metadata": {},
   "outputs": [
    {
     "name": "stdout",
     "output_type": "stream",
     "text": [
      "env: DATASET_URL=file:////home/limr/vmount/PRO-12-123/\n"
     ]
    }
   ],
   "source": [
    "env DATASET_URL=file:///$HOME/vmount/PRO-12-123/"
   ]
  },
  {
   "cell_type": "markdown",
   "metadata": {},
   "source": [
    "### Model Training\n",
    "\n",
    "The model will be used to classify tiles into the different tissue types we've annotated (tumor, stroma and fat). These tissue classifier models can be trained using the `train_tissue_classifier` CLI tool"
   ]
  },
  {
   "cell_type": "code",
   "execution_count": 3,
   "metadata": {},
   "outputs": [
    {
     "name": "stdout",
     "output_type": "stream",
     "text": [
      "2023-04-04 18:31:40,338 - INFO - root - Initalized logger, log file at: luna.log\r\n",
      "Usage: train_tissue_classifier [OPTIONS] TILE_DATASET_FPATH\r\n",
      "\r\n",
      "  Train a tissue classifier model for all tiles in a slide\r\n",
      "\r\n",
      "  Inputs:\r\n",
      "      tile_dataset_fpath: path to tile dataset parquet table\r\n",
      "  \b\r\n",
      "  Outputs:\r\n",
      "      ray ExperimentAnalysis dataframe and metadata saved to the output\r\n",
      "  \b\r\n",
      "  Example:\r\n",
      "      train_tissue_classifier /tables/slides/slide_table\r\n",
      "          -ne 5\r\n",
      "          -nt torchvision.models.resnet18\r\n",
      "          -nw 1\r\n",
      "          -o results/train_tile_classifier_results\r\n",
      "\r\n",
      "Options:\r\n",
      "  -o, --output_dir TEXT           Path to output directory to save results and\r\n",
      "                                  logs from Ray\r\n",
      "  -ls, --label_set TEXT           Dictionary/json where keys coorespoond to\r\n",
      "                                  tissue types and values coorespond to\r\n",
      "                                  numerical values\r\n",
      "  -lc, --label_col TEXT           Column name in the input dataframe\r\n",
      "                                  cooresponding to the tissue type (eg.\r\n",
      "                                  regional_label)\r\n",
      "  -sc, --stratify_col TEXT        Column name in the input dataframe used to\r\n",
      "                                  stratify the training/validation datasets\r\n",
      "                                  (eg. id_slide_container or patient_id)\r\n",
      "  -nk, --num_splits TEXT          The number of folds used for cross\r\n",
      "                                  validation\r\n",
      "  -ne, --num_epochs TEXT          Number of epochs to train the model for. Can\r\n",
      "                                  be either a fixed integer or a RayTune grid\r\n",
      "                                  search\r\n",
      "  -bx, --batch_size TEXT          Batch size used train the model. Can be\r\n",
      "                                  either a fixed integer or a RayTune grid\r\n",
      "                                  search\r\n",
      "  -lr, --learning_rate TEXT       Learning rate used for the ADAM optimizer.\r\n",
      "                                  Can be either a float or a RayTune\r\n",
      "                                  distribution\r\n",
      "  -nt, --network TEXT             Neural network architecture. Can be either a\r\n",
      "                                  nn.Module or a RayTune grid search\r\n",
      "  -ug, --use_gpu TEXT             Whether or not use use GPUs for model\r\n",
      "                                  training\r\n",
      "  -cw, --num_cpus_per_worker TEXT\r\n",
      "                                  Number of CPUs transparent to each worker\r\n",
      "  -gw, --num_gpus_per_worker TEXT\r\n",
      "                                  Number of GPUs transparent to each worker.\r\n",
      "                                  Can't be more than num_gpus\r\n",
      "  -ng, --num_gpus TEXT            Number of GPUs in total transparent to Ray\r\n",
      "  -nc, --num_cpus TEXT            Number of CPUs in total transparent to Ray\r\n",
      "  -nw, --num_workers TEXT         Total number of workers. Cooresponds to\r\n",
      "                                  number of models to train concurrently.\r\n",
      "  -ns, --num_samples TEXT         number of trials to run\r\n",
      "  -m, --method_param_path TEXT    path to a metadata json/yaml file with\r\n",
      "                                  method parameters to reproduce results\r\n",
      "  --help                          Show this message and exit.\r\n",
      "\u001b[0m"
     ]
    }
   ],
   "source": [
    "!train_tissue_classifier --help"
   ]
  },
  {
   "cell_type": "markdown",
   "metadata": {},
   "source": [
    "This CLI tool has a many command line arguments. The main input is the labled tile dataset, which is the data used to train and valdiate the model. For validation, the tiles are stratified by patient id and by slide id, and the split is contoleled by the `num_splits` parameter. The `label_set` parameter is used to map the tissue types to numerical quantities. These models can use none, one, or many GPUs/CPUs using Ray. The arguments used to modify the resources are `num_gpus, num_cpus, num_workers, num_cpus_per_worker, num_gpus_per_worker`. If you want to experiment with different hyperparameters, you can supply a list of values to certian arguments, such as `learning_rate` or `batch_size` and Ray will perform a hyperparameter search or sweep accordingly. \n",
    "\n",
    "In the following example, we're going to train a ResNet18 model (though any model available from [PyTorch](https://pytorch.org/vision/stable/models.html) can be used) for two epochs. "
   ]
  },
  {
   "cell_type": "code",
   "execution_count": 4,
   "metadata": {
    "scrolled": false
   },
   "outputs": [
    {
     "name": "stderr",
     "output_type": "stream",
     "text": [
      "2023-04-04 18:31:44,554 - INFO - root - Initalized logger, log file at: luna.log\n",
      "2023-04-04 18:31:44,557 - INFO - luna.common.utils - Started CLI Runner wtih <function train_model at 0x7f1f35cb2670>\n",
      "2023-04-04 18:31:44,559 - INFO - luna.common.utils - Validating params...\n",
      "2023-04-04 18:31:44,562 - INFO - luna.common.utils -  -> Set tile_dataset_fpath (<class 'str'>) = /home/limr/vmount/PRO-12-123/datasets/PRO_TILES_LABELED/segments\n",
      "2023-04-04 18:31:44,566 - INFO - luna.common.utils -  -> Set output_dir (<class 'str'>) = ../PRO-12-123/tissue_classifier_results\n",
      "2023-04-04 18:31:44,569 - INFO - luna.common.utils -  -> Set label_set (<class 'dict'>) = {'tumor': 0, 'stroma': 1, 'fat': 2}\n",
      "2023-04-04 18:31:44,571 - INFO - luna.common.utils -  -> Set label_col (<class 'str'>) = regional_label\n",
      "2023-04-04 18:31:44,573 - INFO - luna.common.utils -  -> Set stratify_col (<class 'str'>) = slide_id\n",
      "2023-04-04 18:31:44,575 - INFO - luna.common.utils -  -> Set num_splits (<class 'int'>) = 2\n",
      "2023-04-04 18:31:44,577 - INFO - luna.common.utils -  -> Set num_epochs (typing.List[int]) = [2]\n",
      "2023-04-04 18:31:44,580 - INFO - luna.common.utils -  -> Set batch_size (typing.List[int]) = [4]\n",
      "2023-04-04 18:31:44,582 - INFO - luna.common.utils -  -> Set learning_rate (typing.List[float]) = [0.0001]\n",
      "2023-04-04 18:31:44,585 - INFO - luna.common.utils -  -> Set network (<class 'str'>) = torchvision.models.resnet18\n",
      "2023-04-04 18:31:44,589 - INFO - luna.common.utils -  -> Set num_cpus_per_worker (<class 'int'>) = 4\n",
      "2023-04-04 18:31:44,592 - INFO - luna.common.utils -  -> Set num_gpus_per_worker (<class 'int'>) = 0\n",
      "2023-04-04 18:31:44,594 - INFO - luna.common.utils -  -> Set num_gpus (<class 'int'>) = 0\n",
      "2023-04-04 18:31:44,597 - INFO - luna.common.utils -  -> Set num_cpus (<class 'int'>) = 5\n",
      "2023-04-04 18:31:44,599 - INFO - luna.common.utils -  -> Set num_workers (<class 'int'>) = 1\n",
      "2023-04-04 18:31:44,603 - INFO - luna.common.utils -  -> Set num_samples (<class 'int'>) = 1\n",
      "2023-04-04 18:31:44,607 - INFO - luna.common.utils - Expanding inputs...\n",
      "2023-04-04 18:31:44,610 - INFO - luna.common.utils - Full segment key set: {}\n",
      "2023-04-04 18:31:44,612 - INFO - luna.common.utils - ------------------------------------------------------------\n",
      "2023-04-04 18:31:44,612 - INFO - luna.common.utils -  Starting transform::train_model \n",
      "2023-04-04 18:31:44,612 - INFO - luna.common.utils - ------------------------------------------------------------\n",
      "2023-04-04 18:31:44,615 - INFO - train_tissue_classifier - Training a tissue classifier with: network=torchvision.models.resnet18, batch_size=[4], learning_rate=[0.0001]\n",
      "2023-04-04 18:31:44,618 - INFO - train_tissue_classifier - Initilizing Ray Cluster, with: num_gpus=0, num_workers=1\n",
      "2023-04-04 18:31:46,516\tWARNING services.py:1780 -- WARNING: The object store is using /tmp instead of /dev/shm because /dev/shm has only 67108864 bytes available. This will harm performance! You may be able to free up space by deleting files in /dev/shm. If you are inside a Docker container, you can increase /dev/shm size by passing '--shm-size=6.50gb' to 'docker run' (or add it to the run_options list in a Ray cluster config). Make sure to set this to more than 30% of available RAM.\n",
      "2023-04-04 18:31:46,668\tINFO worker.py:1553 -- Started a local Ray instance.\n",
      "2023-04-04 18:31:47,634 - INFO - train_tissue_classifier - View Ray Dashboard to see worker logs:\n",
      "2023-04-04 18:31:47,636 - INFO - train_tissue_classifier - training model\n",
      "2023-04-04 18:31:47,639 - INFO - train_tissue_classifier - Instantiating Ray Trainer with: num_cpus_per_worker=4, num_gpus_per_worker=0\n",
      "2023-04-04 18:31:47,642 - INFO - train_tissue_classifier - Trainer logs will be logged in: /home/limr/vmount/PRO-12-123/tissue_classifier_results\n",
      "2023-04-04 18:31:52,265 - INFO - train_tissue_classifier - == Status ==\n",
      "2023-04-04 18:31:52,265 - INFO - train_tissue_classifier - Current time: 2023-04-04 18:31:52 (running for 00:00:04.55)\n",
      "2023-04-04 18:31:52,265 - INFO - train_tissue_classifier - Memory usage on this node: 5.7/20.3 GiB \n",
      "2023-04-04 18:31:52,265 - INFO - train_tissue_classifier - Using FIFO scheduling algorithm.\n",
      "2023-04-04 18:31:52,265 - INFO - train_tissue_classifier - Resources requested: 5.0/5 CPUs, 0/0 GPUs, 0.0/11.81 GiB heap, 0.0/5.91 GiB objects\n",
      "2023-04-04 18:31:52,265 - INFO - train_tissue_classifier - Result logdir: /home/limr/vmount/PRO-12-123/tissue_classifier_results/TorchTrainer_2023-04-04_18-31-47\n",
      "2023-04-04 18:31:52,265 - INFO - train_tissue_classifier - Number of trials: 1/1 (1 RUNNING)\n",
      "2023-04-04 18:31:52,265 - INFO - train_tissue_classifier - +--------------------------+----------+----------------+\n",
      "2023-04-04 18:31:52,265 - INFO - train_tissue_classifier - | Trial name               | status   | loc            |\n",
      "2023-04-04 18:31:52,265 - INFO - train_tissue_classifier - |--------------------------+----------+----------------|\n",
      "2023-04-04 18:31:52,265 - INFO - train_tissue_classifier - | TorchTrainer_f5502_00000 | RUNNING  | 172.21.0.5:458 |\n",
      "2023-04-04 18:31:52,265 - INFO - train_tissue_classifier - +--------------------------+----------+----------------+\n",
      "2023-04-04 18:31:52,265 - INFO - train_tissue_classifier -\n",
      "\u001b[2m\u001b[36m(TrainTrainable pid=458)\u001b[0m 2023-04-04 18:31:52,252 - INFO - root - Initalized logger, log file at: luna.log\n",
      "\u001b[2m\u001b[36m(RayTrainWorker pid=517)\u001b[0m 2023-04-04 18:31:54,760\tINFO config.py:86 -- Setting up process group for: env:// [rank=0, world_size=1]\n",
      "\u001b[2m\u001b[36m(RayTrainWorker pid=517)\u001b[0m 2023-04-04 18:31:56,694 - INFO - root - Initalized logger, log file at: luna.log\n",
      "\u001b[2m\u001b[36m(RayTrainWorker pid=517)\u001b[0m 2023-04-04 18:31:56,705 - INFO - train_tissue_classifier - Configuring model training driver function...\n",
      "\u001b[2m\u001b[36m(RayTrainWorker pid=517)\u001b[0m 2023-04-04 18:31:57,147\tINFO train_loop_utils.py:255 -- Moving model to device: cpu\n",
      "\u001b[2m\u001b[36m(RayTrainWorker pid=517)\u001b[0m 2023-04-04 18:31:57,159 - INFO - train_tissue_classifier - Starting training procedure\n"
     ]
    },
    {
     "name": "stdout",
     "output_type": "stream",
     "text": [
      "Result for TorchTrainer_f5502_00000:\n",
      "  _time_this_iter_s: 75.94302082061768\n",
      "  _timestamp: 1680633192\n",
      "  _training_iteration: 1\n",
      "  date: 2023-04-04_18-33-12\n",
      "  done: false\n",
      "  experiment_id: cba2c49339824b0ca538a08eee4ab134\n",
      "  hostname: 74d50108ecab\n",
      "  iterations_since_restore: 1\n",
      "  node_ip: 172.21.0.5\n",
      "  pid: 458\n",
      "  time_since_restore: 80.38494443893433\n",
      "  time_this_iter_s: 80.38494443893433\n",
      "  time_total_s: 80.38494443893433\n",
      "  timestamp: 1680633192\n",
      "  timesteps_since_restore: 0\n",
      "  train_Accuracy: 0.6581818461418152\n",
      "  train_F1Score: 0.6581818461418152\n",
      "  train_Precision: 0.6581818461418152\n",
      "  train_Recall: 0.6581818461418152\n",
      "  train_loss: 0.8410024582475856\n",
      "  training_iteration: 1\n",
      "  trial_id: f5502_00000\n",
      "  val_Accuracy: 0.6540229916572571\n",
      "  val_ConfusionMatrix:\n",
      "  - - 369\n",
      "    - 1\n",
      "    - 161\n",
      "  - - 28\n",
      "    - 0\n",
      "    - 103\n",
      "  - - 8\n",
      "    - 0\n",
      "    - 200\n",
      "  val_F1Score: 0.6540229916572571\n",
      "  val_Precision: 0.6540229916572571\n",
      "  val_Recall: 0.6540229916572571\n",
      "  val_loss: 0.713255486715961\n",
      "  warmup_time: 1.6474692821502686\n",
      "  \n",
      "Result for TorchTrainer_f5502_00000:\n",
      "  _time_this_iter_s: 73.28087425231934\n",
      "  _timestamp: 1680633265\n",
      "  _training_iteration: 2\n",
      "  date: 2023-04-04_18-34-25\n",
      "  done: false\n",
      "  experiment_id: cba2c49339824b0ca538a08eee4ab134\n",
      "  hostname: 74d50108ecab\n",
      "  iterations_since_restore: 2\n",
      "  node_ip: 172.21.0.5\n",
      "  pid: 458\n",
      "  time_since_restore: 153.66580271720886\n",
      "  time_this_iter_s: 73.28085827827454\n",
      "  time_total_s: 153.66580271720886\n",
      "  timestamp: 1680633265\n",
      "  timesteps_since_restore: 0\n",
      "  train_Accuracy: 0.7418181896209717\n",
      "  train_F1Score: 0.7418181896209717\n",
      "  train_Precision: 0.7418181896209717\n",
      "  train_Recall: 0.7418181896209717\n",
      "  train_loss: 0.47712825411471765\n",
      "  training_iteration: 2\n",
      "  trial_id: f5502_00000\n",
      "  val_Accuracy: 0.682758629322052\n",
      "  val_ConfusionMatrix:\n",
      "  - - 900\n",
      "    - 1\n",
      "    - 161\n",
      "  - - 138\n",
      "    - 16\n",
      "    - 108\n",
      "  - - 128\n",
      "    - 16\n",
      "    - 272\n",
      "  val_F1Score: 0.682758629322052\n",
      "  val_Precision: 0.682758629322052\n",
      "  val_Recall: 0.682758629322052\n",
      "  val_loss: 0.8418892386429216\n",
      "  warmup_time: 1.6474692821502686\n",
      "  \n"
     ]
    },
    {
     "name": "stderr",
     "output_type": "stream",
     "text": [
      "\u001b[2m\u001b[36m(RayTrainWorker pid=517)\u001b[0m 2023-04-04 18:34:26,387 - INFO - train_tissue_classifier - Completed model training\n"
     ]
    },
    {
     "name": "stdout",
     "output_type": "stream",
     "text": [
      "Trial TorchTrainer_f5502_00000 completed.\n"
     ]
    },
    {
     "name": "stderr",
     "output_type": "stream",
     "text": [
      "2023-04-04 18:34:29,511 - INFO - train_tissue_classifier - == Status ==\n",
      "2023-04-04 18:34:29,511 - INFO - train_tissue_classifier - Current time: 2023-04-04 18:34:29 (running for 00:02:41.80)\n",
      "2023-04-04 18:34:29,511 - INFO - train_tissue_classifier - Memory usage on this node: 6.1/20.3 GiB \n",
      "2023-04-04 18:34:29,511 - INFO - train_tissue_classifier - Using FIFO scheduling algorithm.\n",
      "2023-04-04 18:34:29,511 - INFO - train_tissue_classifier - Resources requested: 0/5 CPUs, 0/0 GPUs, 0.0/11.81 GiB heap, 0.0/5.91 GiB objects\n",
      "2023-04-04 18:34:29,511 - INFO - train_tissue_classifier - Result logdir: /home/limr/vmount/PRO-12-123/tissue_classifier_results/TorchTrainer_2023-04-04_18-31-47\n",
      "2023-04-04 18:34:29,511 - INFO - train_tissue_classifier - Number of trials: 1/1 (1 TERMINATED)\n",
      "2023-04-04 18:34:29,511 - INFO - train_tissue_classifier - +--------------------------+------------+----------------+--------+------------------+--------------+------------+--------------+\n",
      "2023-04-04 18:34:29,511 - INFO - train_tissue_classifier - | Trial name               | status     | loc            |   iter |   total time (s) |   train_loss |   val_loss |   _timestamp |\n",
      "2023-04-04 18:34:29,511 - INFO - train_tissue_classifier - |--------------------------+------------+----------------+--------+------------------+--------------+------------+--------------|\n",
      "2023-04-04 18:34:29,511 - INFO - train_tissue_classifier - | TorchTrainer_f5502_00000 | TERMINATED | 172.21.0.5:458 |      2 |          153.666 |     0.477128 |   0.841889 |   1680633265 |\n",
      "2023-04-04 18:34:29,511 - INFO - train_tissue_classifier - +--------------------------+------------+----------------+--------+------------------+--------------+------------+--------------+\n",
      "2023-04-04 18:34:29,511 - INFO - train_tissue_classifier -\n",
      "2023-04-04 18:34:29,517\tINFO tune.py:798 -- Total run time: 161.84 seconds (161.78 seconds for the tuning loop).\n",
      "2023-04-04 18:34:29,541 - INFO - train_tissue_classifier - Finished training\n",
      "2023-04-04 18:34:29,551 - INFO - train_tissue_classifier -    train_Accuracy  ...                                             logdir\n",
      "2023-04-04 18:34:29,551 - INFO - train_tissue_classifier - 0        0.741818  ...  /home/limr/vmount/PRO-12-123/tissue_classifier...\n",
      "2023-04-04 18:34:29,551 - INFO - train_tissue_classifier - \n",
      "2023-04-04 18:34:29,551 - INFO - train_tissue_classifier - [1 rows x 39 columns]\n",
      "2023-04-04 18:34:29,609 - INFO - train_tissue_classifier - Output: /home/limr/vmount/PRO-12-123/tissue_classifier_results\n",
      "2023-04-04 18:34:31,934 - INFO - luna.common.utils - Code block 'transform::train_model' took: 167.3163875049795s\n",
      "2023-04-04 18:34:31,937 - INFO - luna.common.utils - ------------------------------------------------------------\n",
      "2023-04-04 18:34:31,937 - INFO - luna.common.utils -  Done with transform, running post-transform functions... \n",
      "2023-04-04 18:34:31,937 - INFO - luna.common.utils - ------------------------------------------------------------\n",
      "2023-04-04 18:34:31,966 - INFO - luna.common.utils - Done.\n"
     ]
    }
   ],
   "source": [
    "%%bash\n",
    "\n",
    "train_tissue_classifier ~/vmount/PRO-12-123/datasets/PRO_TILES_LABELED/segments \\\n",
    "--label_set \"{'tumor':0, 'stroma':1, 'fat':2}\" \\\n",
    "--label_col regional_label --stratify_col slide_id \\\n",
    "--num_epochs 2 --network 'torchvision.models.resnet18' \\\n",
    "--num_splits 2 \\\n",
    "--batch_size 4 \\\n",
    "-lr 1e-4  \\\n",
    "-cw 4 -gw 0 -nw 1 -ng 0 -nc 5 -ns 1 \\\n",
    "--output_dir ../PRO-12-123/tissue_classifier_results\n"
   ]
  },
  {
   "cell_type": "markdown",
   "metadata": {},
   "source": [
    "### Results\n",
    "\n",
    "Now that we have a trained model, we can inspect the output"
   ]
  },
  {
   "cell_type": "code",
   "execution_count": 9,
   "metadata": {},
   "outputs": [
    {
     "name": "stdout",
     "output_type": "stream",
     "text": [
      "TorchTrainer_f5502_00000_0_2023-04-04_18-31-47\n",
      "basic-variant-state-2023-04-04_18-31-47.json\n",
      "experiment_state-2023-04-04_18-31-47.json\n",
      "trainable.pkl\n",
      "tuner.pkl\n"
     ]
    }
   ],
   "source": [
    "%%bash\n",
    "\n",
    "ls /home/limr/vmount/PRO-12-123/tissue_classifier_results/TorchTrainer_2023-04-04_18-31-47"
   ]
  },
  {
   "cell_type": "code",
   "execution_count": 6,
   "metadata": {},
   "outputs": [
    {
     "name": "stdout",
     "output_type": "stream",
     "text": [
      "total 87496\r\n",
      "-rw-r--r--  1 limr limr    12354 Apr  4 18:34 metadata.yml\r\n",
      "drwxr-xr-x  7 limr limr      224 Apr  4 18:34 TorchTrainer_2023-04-04_18-31-47\r\n",
      "-rw-r--r--  1 limr limr 44788557 Apr  4 18:34 checkpoint_1.pt\r\n",
      "drwxr-xr-x 17 limr limr      544 Apr  4 18:34 .\r\n",
      "-rw-r--r--  1 limr limr 44788557 Apr  4 18:33 checkpoint_0.pt\r\n",
      "drwxr-xr-x  7 limr limr      224 Apr  4 17:52 TorchTrainer_2023-04-04_17-51-33\r\n",
      "drwxr-xr-x  7 limr limr      224 Apr  4 17:46 TorchTrainer_2023-04-04_17-45-03\r\n",
      "drwxr-xr-x  7 limr limr      224 Apr  4 17:11 TorchTrainer_2023-04-04_17-10-05\r\n",
      "drwxr-xr-x  7 limr limr      224 Apr  4 16:08 TorchTrainer_2023-04-04_16-06-53\r\n",
      "drwxr-xr-x  7 limr limr      224 Apr  3 21:43 TorchTrainer_2023-04-03_21-43-48\r\n",
      "drwxr-xr-x  7 limr limr      224 Apr  3 21:37 TorchTrainer_2023-04-03_21-37-39\r\n",
      "drwxr-xr-x  7 limr limr      224 Apr  3 21:21 TorchTrainer_2023-04-03_21-21-44\r\n",
      "drwxr-xr-x  7 limr limr      224 Apr  3 21:09 TorchTrainer_2023-04-03_21-09-44\r\n",
      "drwxr-xr-x  6 limr limr      192 Apr  3 21:09 TorchTrainer_2023-04-03_20-57-21\r\n",
      "drwxr-xr-x  6 limr limr      192 Apr  3 20:51 TorchTrainer_2023-04-03_20-35-01\r\n",
      "drwxr-xr-x  4 limr limr      128 Apr  3 18:02 TorchTrainer_2023-04-03_18-02-38\r\n",
      "drwxr-xr-x  8 root root      256 Mar 31 21:43 ..\r\n"
     ]
    }
   ],
   "source": [
    "!ls -lat ../PRO-12-123/tissue_classifier_results"
   ]
  },
  {
   "cell_type": "markdown",
   "metadata": {},
   "source": [
    "For every time the model is trained, Ray will put together a set of output directories to manage your runs. You can inspect the results using Ray's ExperimentAnalysis dataframe by loading a particular output directory. This dataframe will store various performance metrics as well as the hyperparameters used to configure the model among other output metadata"
   ]
  },
  {
   "cell_type": "code",
   "execution_count": 10,
   "metadata": {},
   "outputs": [
    {
     "data": {
      "text/html": [
       "<div>\n",
       "<style scoped>\n",
       "    .dataframe tbody tr th:only-of-type {\n",
       "        vertical-align: middle;\n",
       "    }\n",
       "\n",
       "    .dataframe tbody tr th {\n",
       "        vertical-align: top;\n",
       "    }\n",
       "\n",
       "    .dataframe thead th {\n",
       "        text-align: right;\n",
       "    }\n",
       "</style>\n",
       "<table border=\"1\" class=\"dataframe\">\n",
       "  <thead>\n",
       "    <tr style=\"text-align: right;\">\n",
       "      <th></th>\n",
       "      <th>train_Accuracy</th>\n",
       "      <th>train_Precision</th>\n",
       "      <th>train_Recall</th>\n",
       "      <th>train_F1Score</th>\n",
       "      <th>train_loss</th>\n",
       "      <th>val_Accuracy</th>\n",
       "      <th>val_Precision</th>\n",
       "      <th>val_Recall</th>\n",
       "      <th>val_F1Score</th>\n",
       "      <th>val_ConfusionMatrix</th>\n",
       "      <th>...</th>\n",
       "      <th>iterations_since_restore</th>\n",
       "      <th>warmup_time</th>\n",
       "      <th>experiment_tag</th>\n",
       "      <th>config/scaling_config/trainer_resources</th>\n",
       "      <th>config/scaling_config/num_workers</th>\n",
       "      <th>config/scaling_config/use_gpu</th>\n",
       "      <th>config/scaling_config/placement_strategy</th>\n",
       "      <th>config/scaling_config/_max_cpu_fraction_per_node</th>\n",
       "      <th>config/scaling_config/resources_per_worker/CPU</th>\n",
       "      <th>config/scaling_config/resources_per_worker/GPU</th>\n",
       "    </tr>\n",
       "    <tr>\n",
       "      <th>trial_id</th>\n",
       "      <th></th>\n",
       "      <th></th>\n",
       "      <th></th>\n",
       "      <th></th>\n",
       "      <th></th>\n",
       "      <th></th>\n",
       "      <th></th>\n",
       "      <th></th>\n",
       "      <th></th>\n",
       "      <th></th>\n",
       "      <th></th>\n",
       "      <th></th>\n",
       "      <th></th>\n",
       "      <th></th>\n",
       "      <th></th>\n",
       "      <th></th>\n",
       "      <th></th>\n",
       "      <th></th>\n",
       "      <th></th>\n",
       "      <th></th>\n",
       "      <th></th>\n",
       "    </tr>\n",
       "  </thead>\n",
       "  <tbody>\n",
       "    <tr>\n",
       "      <th>f5502_00000</th>\n",
       "      <td>0.7418182</td>\n",
       "      <td>0.7418182</td>\n",
       "      <td>0.7418182</td>\n",
       "      <td>0.7418182</td>\n",
       "      <td>0.477128</td>\n",
       "      <td>0.6827586</td>\n",
       "      <td>0.6827586</td>\n",
       "      <td>0.6827586</td>\n",
       "      <td>0.6827586</td>\n",
       "      <td>[[900, 1, 161], [138, 16, 108], [128, 16, 272]]</td>\n",
       "      <td>...</td>\n",
       "      <td>2</td>\n",
       "      <td>1.647469</td>\n",
       "      <td>0</td>\n",
       "      <td>None</td>\n",
       "      <td>1</td>\n",
       "      <td>False</td>\n",
       "      <td>PACK</td>\n",
       "      <td>None</td>\n",
       "      <td>4</td>\n",
       "      <td>0</td>\n",
       "    </tr>\n",
       "  </tbody>\n",
       "</table>\n",
       "<p>1 rows × 38 columns</p>\n",
       "</div>"
      ],
      "text/plain": [
       "            train_Accuracy train_Precision train_Recall train_F1Score  \\\n",
       "trial_id                                                                \n",
       "f5502_00000      0.7418182       0.7418182    0.7418182     0.7418182   \n",
       "\n",
       "             train_loss val_Accuracy val_Precision val_Recall val_F1Score  \\\n",
       "trial_id                                                                    \n",
       "f5502_00000    0.477128    0.6827586     0.6827586  0.6827586   0.6827586   \n",
       "\n",
       "                                         val_ConfusionMatrix  ...  \\\n",
       "trial_id                                                      ...   \n",
       "f5502_00000  [[900, 1, 161], [138, 16, 108], [128, 16, 272]]  ...   \n",
       "\n",
       "             iterations_since_restore  warmup_time  experiment_tag  \\\n",
       "trial_id                                                             \n",
       "f5502_00000                         2     1.647469               0   \n",
       "\n",
       "             config/scaling_config/trainer_resources  \\\n",
       "trial_id                                               \n",
       "f5502_00000                                     None   \n",
       "\n",
       "             config/scaling_config/num_workers  config/scaling_config/use_gpu  \\\n",
       "trial_id                                                                        \n",
       "f5502_00000                                  1                          False   \n",
       "\n",
       "            config/scaling_config/placement_strategy  \\\n",
       "trial_id                                               \n",
       "f5502_00000                                     PACK   \n",
       "\n",
       "            config/scaling_config/_max_cpu_fraction_per_node  \\\n",
       "trial_id                                                       \n",
       "f5502_00000                                             None   \n",
       "\n",
       "             config/scaling_config/resources_per_worker/CPU  \\\n",
       "trial_id                                                      \n",
       "f5502_00000                                               4   \n",
       "\n",
       "            config/scaling_config/resources_per_worker/GPU  \n",
       "trial_id                                                    \n",
       "f5502_00000                                              0  \n",
       "\n",
       "[1 rows x 38 columns]"
      ]
     },
     "metadata": {},
     "output_type": "display_data"
    }
   ],
   "source": [
    "from ray.tune import ExperimentAnalysis\n",
    "RAY_OUTPUT = \"TorchTrainer_2023-04-04_18-31-47\" # change this to the output folder you want to insepct\n",
    "output_dir = \"../PRO-12-123/tissue_classifier_results\"\n",
    "\n",
    "ray_output_dir = os.path.join(output_dir, RAY_OUTPUT)\n",
    "analysis = ExperimentAnalysis(ray_output_dir)\n",
    "display(analysis.results_df)\n"
   ]
  },
  {
   "cell_type": "markdown",
   "metadata": {},
   "source": [
    "We can use the output to put together a confusion matrix.\n"
   ]
  },
  {
   "cell_type": "code",
   "execution_count": 11,
   "metadata": {},
   "outputs": [
    {
     "data": {
      "image/png": "[encoded data removed]",
      "text/plain": [
       "<Figure size 640x480 with 2 Axes>"
      ]
     },
     "metadata": {},
     "output_type": "display_data"
    }
   ],
   "source": [
    "import seaborn as sns\n",
    "import pandas as pd\n",
    "import matplotlib.pyplot as plt\n",
    "import numpy as np\n",
    "\n",
    "label_dict = {'tumor':0, 'stroma':1, 'fat':2}\n",
    "labels = list(label_dict.keys())\n",
    "cm = analysis.results_df['val_ConfusionMatrix'].iloc[0]\n",
    "\n",
    "# normalize \n",
    "cm = cm.astype('float') / cm.sum(axis=1)[:, np.newaxis]\n",
    "df_cm = pd.DataFrame(cm, index=labels, columns=labels)\n",
    "df_cm\n",
    "sns.heatmap(df_cm, annot=True)\n",
    "plt.show()"
   ]
  },
  {
   "cell_type": "markdown",
   "metadata": {},
   "source": [
    "This output directory directory also contains our model checkpoints `checkpoint_*.pt` that we'll need for inference. Now, with our trained model and model checkpoints, we can move on the next notebook!\n"
   ]
  }
 ],
 "metadata": {
  "kernelspec": {
   "display_name": "Python 3 (ipykernel)",
   "language": "python",
   "name": "python3"
  },
  "language_info": {
   "codemirror_mode": {
    "name": "ipython",
    "version": 3
   },
   "file_extension": ".py",
   "mimetype": "text/x-python",
   "name": "python",
   "nbconvert_exporter": "python",
   "pygments_lexer": "ipython3",
   "version": "3.9.16"
  }
 },
 "nbformat": 4,
 "nbformat_minor": 4
}
