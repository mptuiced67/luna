{
 "cells": [
  {
   "cell_type": "markdown",
   "metadata": {},
   "source": [
    "# Digital Slide Archive (DSA) Visualization Tutorial"
   ]
  },
  {
   "cell_type": "markdown",
   "metadata": {},
   "source": [
    "Welcome to the Digial Slide Archive (DSA) visualization notebook! \n",
    "\n",
    "Digital Slide Archive (DSA) is a web application on which you can manage your pathology images and annotations. Luna provides a set of CLIs to help you convert your pathologist or model-generated annotations to a format that DSA accepts. For more details on the DSA platform, please refer to their [documentation](https://digitalslidearchive.github.io/digital_slide_archive/documentation/).\n",
    "\n",
    "In this notebook, we will use **dsa** and **dsa_upload** CLIs to convert your annotations to a DSA compatible format and to upload them to DSA. We support results from Qupath/Stardist dectection models ([link to docker image](https://hub.docker.com/r/mskmind/qupath-stardist)), tile scores in a tabular format, and also expert annotations in geojson format. Here are the steps we will review:\n",
    "\n",
    "- Setup DSA\n",
    "- DSA Visuzaliation CLIs\n",
    "- Upload Qupath regional annotation results\n",
    "- Upload a heatmap generated from tile scores\n",
    "- Upload bitmasks PNGs\n",
    "- Upload bmp results\n",
    "- Upload Stardist object detection results\n",
    "- Upload Stardist cell detection results\n"
   ]
  },
  {
   "cell_type": "code",
   "execution_count": 46,
   "metadata": {},
   "outputs": [
    {
     "name": "stdout",
     "output_type": "stream",
     "text": [
      "LUNA_HOME: /home/limr/vmount\n",
      "PYTHONPATH:\n"
     ]
    }
   ],
   "source": [
    "!echo LUNA_HOME: $LUNA_HOME\n",
    "!echo PYTHONPATH: $PYTHONPATH    "
   ]
  },
  {
   "cell_type": "markdown",
   "metadata": {},
   "source": [
    "## Setup DSA"
   ]
  },
  {
   "cell_type": "markdown",
   "metadata": {},
   "source": [
    "Before running this notebook, make sure you have your pathology slides organized in DSA under a collection/folder. This will have already been done for you if you have run the previous notebooks in the tutorial.\n",
    "\n",
    "![DSA Organization Screenshot](../img/dsa-organization-screenshot.png)\n",
    "\n",
    "The collection name 'TCGA collection' and image file name 01OV002-bd8cdc70-3d46-40ae-99c4-90ef77.svs on DSA will be used while uploading the annotations."
   ]
  },
  {
   "cell_type": "markdown",
   "metadata": {},
   "source": [
    "## DSA Visualization CLIs"
   ]
  },
  {
   "cell_type": "markdown",
   "metadata": {},
   "source": [
    "Luna Pathology offers 2 CLIs to help convert your annotation results to a DSA compatible json format and to upload them to DSA. The conversion and upload is divided in to 2 separate steps, so each step can be parallelized based on your computing capabilities and DSA platform setup. \n",
    "\n",
    "`dsa [COMMAND]` converts your annotation file format to a DSA compatible annotation json format.\n",
    "\n",
    "`dsa_upload` uploads the DSA compatible annotation json.\n",
    "\n",
    "Once upload is done, the annotations may be viewed in the HistomicsUI viewer.\n",
    "\n",
    "*Note: Pushing and rendering a large number of annotation elements can take a long time. Please refer to DSA [documentation](https://digitalslidearchive.github.io/HistomicsTK/examples/tips_for_scalable_annotation_rendering), for user expectations and some tricks for managing annotations.*"
   ]
  },
  {
   "cell_type": "code",
   "execution_count": 47,
   "metadata": {
    "scrolled": true
   },
   "outputs": [
    {
     "name": "stdout",
     "output_type": "stream",
     "text": [
      "2023-04-04 20:21:40,215 - INFO - root - Initalized logger, log file at: luna.log\r\n",
      "Usage: dsa [OPTIONS] COMMAND [ARGS]...\r\n",
      "\r\n",
      "  Convert segmentations, bitmasks, heatmaps to DSA annotation Json format.\r\n",
      "\r\n",
      "Options:\r\n",
      "  --help  Show this message and exit.\r\n",
      "\r\n",
      "Commands:\r\n",
      "  bitmask-polygon   Example:\r\n",
      "  bmp-polygon       Example:\r\n",
      "  heatmap           Example:\r\n",
      "  qupath-polygon    Example:\r\n",
      "  regional-polygon  Example:\r\n",
      "  stardist-cell     Example:\r\n",
      "  stardist-polygon  Example:\r\n"
     ]
    }
   ],
   "source": [
    "# check available dsa cli commands\n",
    "!dsa --help"
   ]
  },
  {
   "cell_type": "code",
   "execution_count": 48,
   "metadata": {},
   "outputs": [
    {
     "name": "stdout",
     "output_type": "stream",
     "text": [
      "2023-04-04 20:21:42,347 - INFO - root - Initalized logger, log file at: luna.log\r\n",
      "Usage: dsa stardist-polygon [OPTIONS] INPUT\r\n",
      "\r\n",
      "  Example:\r\n",
      "\r\n",
      "          dsa stardist-polygon\r\n",
      "              ../dsa_input/test_object_classification.geojson\r\n",
      "              --output_dir ../dsa_annotations/stardist_polygon\r\n",
      "              --annotation_name stardist_polygon_segmentations\r\n",
      "              --image_filename 123.svs\r\n",
      "              --line_colors '{\"Other\": \"rgb(0,255,0)\", \"Lymphocyte\": \"rgb(255,0,0)\"}'\r\n",
      "              --fill_colors '{\"Other\": \"rgba(0,255,0,100)\", \"Lymphocyte\": \"rgba(255,0,0,100)\"}'\r\n",
      "\r\n",
      "Options:\r\n",
      "  -m, --method_param_path TEXT  path to a metadata json/yaml file with method\r\n",
      "                                parameters to reproduce results\r\n",
      "  -fc, --fill_colors TEXT       user-provided line color map with {feature\r\n",
      "                                name:rgba values}\r\n",
      "  -lc, --line_colors TEXT       user-provided line color map with {feature\r\n",
      "                                name:rgb values}\r\n",
      "  -a, --annotation_name TEXT    name of the annotation to be displayed in DSA\r\n",
      "  -f, --image_filename TEXT     name of the image file in DSA e.g. 123.svs\r\n",
      "  -o, --output_dir TEXT         directory to save the DSA compatible\r\n",
      "                                annotation json\r\n",
      "  --help                        Show this message and exit.\r\n"
     ]
    }
   ],
   "source": [
    "# check dsa cli commands help messages\n",
    "!dsa stardist-polygon --help"
   ]
  },
  {
   "cell_type": "code",
   "execution_count": 49,
   "metadata": {
    "scrolled": true
   },
   "outputs": [
    {
     "name": "stdout",
     "output_type": "stream",
     "text": [
      "2023-04-04 20:21:43,740 - INFO - root - Initalized logger, log file at: luna.log\r\n",
      "Usage: dsa_upload [OPTIONS] DSA_ENDPOINT\r\n",
      "\r\n",
      "  DSA Annotation Upload CLI\r\n",
      "\r\n",
      "  Example:     export DSA_USERNAME=username     export DSA_PASSWORD=password\r\n",
      "  dsa_upload http://localhost:8080/dsa/api/v1         --collection_name tcga-\r\n",
      "  data         --image_filename 123.svs         --annotation_filepath\r\n",
      "  /path/to/dsa_annotation.json\r\n",
      "\r\n",
      "Options:\r\n",
      "  -c, --collection_name TEXT      name of the collection in DSA\r\n",
      "  -f, --image_filename TEXT       name of the image file in DSA e.g. 123.svs\r\n",
      "  -a, --annotation_filepath TEXT  path to a DSA annotation json file\r\n",
      "  -u, --username TEXT             DSA username, can be inferred from\r\n",
      "                                  DSA_USERNAME\r\n",
      "  -p, --password TEXT             DSA password, should be inferred from\r\n",
      "                                  DSA_PASSWORD\r\n",
      "  -m, --method_param_path TEXT    path to a metadata json/yaml file with\r\n",
      "                                  method parameters to reproduce results\r\n",
      "  --help                          Show this message and exit.\r\n"
     ]
    }
   ],
   "source": [
    "# check dsa_upload help messages\n",
    "!dsa_upload --help"
   ]
  },
  {
   "cell_type": "markdown",
   "metadata": {},
   "source": [
    "## Upload a heatmap generated from tile scores"
   ]
  },
  {
   "cell_type": "markdown",
   "metadata": {},
   "source": [
    "the **heatmap** sub-command converts the output csv file containing tiles scores from the inference step to a DSA compatible json format. \n",
    "\n",
    "Once the json file is uploaded to DSA using the **upload** command, the heatmap may be viewed in HistomicsUI.\n",
    "\n",
    "We use the color palette \"viridis\" where the output color ranges from purple to yellow, for scores from 0 to 1."
   ]
  },
  {
   "cell_type": "code",
   "execution_count": 50,
   "metadata": {},
   "outputs": [
    {
     "name": "stdout",
     "output_type": "stream",
     "text": [
      "2023-04-04 20:21:45,722 - INFO - root - Initalized logger, log file at: luna.log\r\n",
      "Usage: dsa heatmap [OPTIONS] INPUT\r\n",
      "\r\n",
      "  Example:\r\n",
      "\r\n",
      "          dsa heatmap\r\n",
      "              score.csv\r\n",
      "              --output_dir ../dsa_annotations/heatmap\r\n",
      "              --annotation_name heatmap\r\n",
      "              --image_filename 123.svs\r\n",
      "              --tile_size 256\r\n",
      "              --column tumor\r\n",
      "              --scale_factor 1\r\n",
      "\r\n",
      "          dsa heatmap\r\n",
      "              score.csv\r\n",
      "              --output_dir ../dsa_annotations/heatmap\r\n",
      "              --annotation_name heatmap\r\n",
      "              --image_filename 123.svs\r\n",
      "              --tile_size 256\r\n",
      "              --column tumor --column stroma\r\n",
      "              --line_colors '{\"tumor\": \"rgb(0,255,0)\", \"stroma\": \"rgb(255,0,0)\"}'\r\n",
      "              --fill_colors '{\"tumor\": \"rgba(0,255,0,100)\", \"stroma\": \"rgba(255,0,0,100)\"}'\r\n",
      "              --scale_factor 1\r\n",
      "\r\n",
      "Options:\r\n",
      "  -m, --method_param_path TEXT  path to a metadata json/yaml file with method\r\n",
      "                                parameters to reproduce results\r\n",
      "  -sc, --scale_factor INTEGER   scale to match image DSA. (default 1)\r\n",
      "  -ts, --tile_size TEXT         tile size\r\n",
      "  -lc, --line_colors TEXT       user-provided line color map with {feature\r\n",
      "                                name:rgb values}\r\n",
      "  -fc, --fill_colors TEXT       user-provided line color map with {feature\r\n",
      "                                name:rgba values}\r\n",
      "  -c, --column TEXT             column(s) to visualize e.g. tile_score. if\r\n",
      "                                multiple are specified, annotate the tile with\r\n",
      "                                the label with maximum score.\r\n",
      "  -a, --annotation_name TEXT    name of the annotation to be displayed in DSA\r\n",
      "  -f, --image_filename TEXT     name of the image file in DSA e.g. 123.svs\r\n",
      "  -o, --output_dir TEXT         directory to save the DSA compatible\r\n",
      "                                annotation json\r\n",
      "  --help                        Show this message and exit.\r\n"
     ]
    }
   ],
   "source": [
    "# example data_config\n",
    "!dsa heatmap --help"
   ]
  },
  {
   "cell_type": "code",
   "execution_count": 52,
   "metadata": {
    "scrolled": false
   },
   "outputs": [
    {
     "name": "stdout",
     "output_type": "stream",
     "text": [
      "2023-04-04 20:21:47,890 - INFO - root - Initalized logger, log file at: luna.log\n",
      "2023-04-04 20:21:47,893 - INFO - luna.common.utils - Started CLI Runner wtih <function heatmap_main at 0x7f513ec2be50>\n",
      "2023-04-04 20:21:47,895 - INFO - luna.common.utils - Validating params...\n",
      "2023-04-04 20:21:47,897 - INFO - luna.common.utils -  -> Set column (<class 'list'>) = ['purple_score']\n",
      "2023-04-04 20:21:47,899 - INFO - luna.common.utils -  -> Set tile_size (<class 'int'>) = 256\n",
      "2023-04-04 20:21:47,901 - INFO - luna.common.utils -  -> Set annotation_name (<class 'str'>) = heatmap\n",
      "2023-04-04 20:21:47,902 - INFO - luna.common.utils -  -> Set image_filename (<class 'str'>) = 01OV002-bd8cdc70-3d46-40ae-99c4-90ef77.svs\n",
      "2023-04-04 20:21:47,904 - INFO - luna.common.utils -  -> Set output_dir (<class 'str'>) = ../dsa_annotations/heatmap\n",
      "2023-04-04 20:21:47,905 - INFO - luna.common.utils -  -> Set input (<class 'str'>) = ../dsa_input/tile_scores.csv\n",
      "2023-04-04 20:21:47,908 - INFO - luna.common.utils -  -> Set scale_factor (<class 'int'>) = 1\n",
      "2023-04-04 20:21:47,911 - INFO - luna.common.utils - Expanding inputs...\n",
      "2023-04-04 20:21:47,912 - INFO - luna.common.utils - Full segment key set: {}\n",
      "2023-04-04 20:21:47,914 - INFO - luna.common.utils - ------------------------------------------------------------\n",
      "2023-04-04 20:21:47,914 - INFO - luna.common.utils -  Starting transform::heatmap_main \n",
      "2023-04-04 20:21:47,914 - INFO - luna.common.utils - ------------------------------------------------------------\n",
      "2023-04-04 20:21:47,977 - INFO - luna.common.utils - Code block 'transform::heatmap_main' took: 0.062102266994770616s\n",
      "2023-04-04 20:21:47,979 - INFO - luna.common.utils - ------------------------------------------------------------\n",
      "2023-04-04 20:21:47,979 - INFO - luna.common.utils -  Done with transform, running post-transform functions... \n",
      "2023-04-04 20:21:47,979 - INFO - luna.common.utils - ------------------------------------------------------------\n",
      "2023-04-04 20:21:47,984 - INFO - luna.common.utils - Done.\n"
     ]
    }
   ],
   "source": [
    "# generate DSA compatible annotation\n",
    "!dsa heatmap ../dsa_input/tile_scores.csv \\\n",
    "--output_dir ../dsa_annotations/heatmap \\\n",
    "--annotation_name heatmap \\\n",
    "--image_filename 01OV002-bd8cdc70-3d46-40ae-99c4-90ef77.svs \\\n",
    "--tile_size 256 \\\n",
    "--column purple_score \\\n",
    "--scale_factor 1"
   ]
  },
  {
   "cell_type": "code",
   "execution_count": 53,
   "metadata": {},
   "outputs": [
    {
     "name": "stdout",
     "output_type": "stream",
     "text": [
      "2023-04-04 20:21:49,375 - INFO - root - Initalized logger, log file at: luna.log\n",
      "2023-04-04 20:21:49,377 - INFO - luna.common.utils - Started CLI Runner wtih <function upload_annotation_to_dsa at 0x7fe9357af280>\n",
      "2023-04-04 20:21:49,379 - INFO - luna.common.utils - Validating params...\n",
      "2023-04-04 20:21:49,381 - INFO - luna.common.utils -  -> Set annotation_filepath (<class 'str'>) = ../dsa_annotations/heatmap/purple_score_heatmap_01OV002-bd8cdc70-3d46-40ae-99c4-90ef77.json\n",
      "2023-04-04 20:21:49,383 - INFO - luna.common.utils -  -> Set collection_name (<class 'str'>) = TCGA collection\n",
      "2023-04-04 20:21:49,384 - INFO - luna.common.utils -  -> Set image_filename (<class 'str'>) = 01OV002-bd8cdc70-3d46-40ae-99c4-90ef77.svs\n",
      "2023-04-04 20:21:49,386 - INFO - luna.common.utils -  -> Set dsa_endpoint (<class 'str'>) = http://girder:8080/api/v1\n",
      "2023-04-04 20:21:49,388 - INFO - luna.common.utils -  -> Set username (<class 'str'>) = *****\n",
      "2023-04-04 20:21:49,389 - INFO - luna.common.utils -  -> Set password (<class 'str'>) = *****\n",
      "2023-04-04 20:21:49,391 - INFO - luna.common.utils - Expanding inputs...\n",
      "2023-04-04 20:21:49,392 - INFO - luna.common.utils - Full segment key set: {}\n",
      "2023-04-04 20:21:49,394 - INFO - luna.common.utils - ------------------------------------------------------------\n",
      "2023-04-04 20:21:49,394 - INFO - luna.common.utils -  Starting transform::upload_annotation_to_dsa \n",
      "2023-04-04 20:21:49,394 - INFO - luna.common.utils - ------------------------------------------------------------\n",
      "2023-04-04 20:21:49,659 - INFO - luna.pathology.dsa.dsa_api_handler - Successfully connected to DSA\n",
      "2023-04-04 20:21:49,687 - INFO - luna.pathology.dsa.dsa_api_handler - Found collection id=642b13a033dd668f85bbc1ee for collection=TCGA collection\n",
      "Image file 01OV002-bd8cdc70-3d46-40ae-99c4-90ef77.svs found with id: 642b13a033dd668f85bbc1f0\n",
      "2023-04-04 20:21:49,810 - INFO - luna.pathology.dsa.dsa_api_handler - Annotation successfully pushed to DSA.\n",
      "2023-04-04 20:21:49,812 - INFO - luna.pathology.dsa.dsa_api_handler - Time to push annotation 0.11490583419799805\n",
      "2023-04-04 20:21:49,814 - INFO - luna.pathology.dsa.dsa_api_handler - http://girder:8080//histomics#?image=642b13a033dd668f85bbc1f0\n",
      "2023-04-04 20:21:49,816 - INFO - luna.common.utils - Code block 'transform::upload_annotation_to_dsa' took: 0.420063235971611s\n",
      "2023-04-04 20:21:49,817 - INFO - luna.common.utils - ------------------------------------------------------------\n",
      "2023-04-04 20:21:49,817 - INFO - luna.common.utils -  Done with transform, running post-transform functions... \n",
      "2023-04-04 20:21:49,817 - INFO - luna.common.utils - ------------------------------------------------------------\n",
      "2023-04-04 20:21:49,819 - INFO - luna.common.utils - Done.\n"
     ]
    }
   ],
   "source": [
    "# push annotation to DSA\n",
    "!dsa_upload http://girder:8080/api/v1 \\\n",
    "--collection_name 'TCGA collection' \\\n",
    "--image_filename 01OV002-bd8cdc70-3d46-40ae-99c4-90ef77.svs \\\n",
    "--annotation_filepath ../dsa_annotations/heatmap/purple_score_heatmap_01OV002-bd8cdc70-3d46-40ae-99c4-90ef77.json \\\n",
    "--username admin \\\n",
    "--password password1"
   ]
  },
  {
   "cell_type": "markdown",
   "metadata": {},
   "source": [
    "## Upload bitmasks PNGs"
   ]
  },
  {
   "cell_type": "markdown",
   "metadata": {},
   "source": [
    "Simple PNG bitmasks can also be visualized in DSA. Use the **bitmask-polygon** sub-command and specify pngs with the corresponding labels. Then upload to view in HistomicsUI."
   ]
  },
  {
   "cell_type": "code",
   "execution_count": 54,
   "metadata": {},
   "outputs": [
    {
     "name": "stdout",
     "output_type": "stream",
     "text": [
      "2023-04-04 20:21:51,789 - INFO - root - Initalized logger, log file at: luna.log\n",
      "2023-04-04 20:21:51,792 - INFO - luna.common.utils - Started CLI Runner wtih <function bitmask_polygon_main at 0x7f8e859dfdc0>\n",
      "2023-04-04 20:21:51,794 - INFO - luna.common.utils - Validating params...\n",
      "2023-04-04 20:21:51,795 - INFO - luna.common.utils -  -> Set fill_colors (<class 'dict'>) = {'OTSU': 'rgba(255,255,0,100)'}\n",
      "2023-04-04 20:21:51,798 - INFO - luna.common.utils -  -> Set line_colors (<class 'dict'>) = {'OTSU': 'rgb(255,255,0)'}\n",
      "2023-04-04 20:21:51,800 - INFO - luna.common.utils -  -> Set annotation_name (<class 'str'>) = bitmask\n",
      "2023-04-04 20:21:51,802 - INFO - luna.common.utils -  -> Set image_filename (<class 'str'>) = 01OV002-bd8cdc70-3d46-40ae-99c4-90ef77.svs\n",
      "2023-04-04 20:21:51,803 - INFO - luna.common.utils -  -> Set output_dir (<class 'str'>) = ../dsa_annotations/bitmask\n",
      "2023-04-04 20:21:51,805 - INFO - luna.common.utils -  -> Set input (<class 'dict'>) = {'OTSU': '../PRO-12-123/tiling/inference/detect/otsu_mask.png'}\n",
      "2023-04-04 20:21:51,807 - INFO - luna.common.utils -  -> Set scale_factor (<class 'int'>) = 1\n",
      "2023-04-04 20:21:51,809 - INFO - luna.common.utils - Expanding inputs...\n",
      "2023-04-04 20:21:51,810 - INFO - luna.common.utils - Full segment key set: {}\n",
      "2023-04-04 20:21:51,812 - INFO - luna.common.utils - ------------------------------------------------------------\n",
      "2023-04-04 20:21:51,812 - INFO - luna.common.utils -  Starting transform::bitmask_polygon_main \n",
      "2023-04-04 20:21:51,812 - INFO - luna.common.utils - ------------------------------------------------------------\n",
      "2023-04-04 20:22:31,488 - INFO - luna.common.utils - Code block 'transform::bitmask_polygon_main' took: 39.674094040005s\n",
      "2023-04-04 20:22:31,490 - INFO - luna.common.utils - ------------------------------------------------------------\n",
      "2023-04-04 20:22:31,490 - INFO - luna.common.utils -  Done with transform, running post-transform functions... \n",
      "2023-04-04 20:22:31,490 - INFO - luna.common.utils - ------------------------------------------------------------\n",
      "2023-04-04 20:22:31,498 - INFO - luna.common.utils - Done.\n",
      "2023-04-04 20:22:32,882 - INFO - root - Initalized logger, log file at: luna.log\n",
      "2023-04-04 20:22:32,884 - INFO - luna.common.utils - Started CLI Runner wtih <function upload_annotation_to_dsa at 0x7f481f9861f0>\n",
      "2023-04-04 20:22:32,886 - INFO - luna.common.utils - Validating params...\n",
      "2023-04-04 20:22:32,887 - INFO - luna.common.utils -  -> Set annotation_filepath (<class 'str'>) = ../dsa_annotations/bitmask/bitmask_01OV002-bd8cdc70-3d46-40ae-99c4-90ef77.json\n",
      "2023-04-04 20:22:32,889 - INFO - luna.common.utils -  -> Set collection_name (<class 'str'>) = TCGA collection\n",
      "2023-04-04 20:22:32,891 - INFO - luna.common.utils -  -> Set image_filename (<class 'str'>) = 01OV002-bd8cdc70-3d46-40ae-99c4-90ef77.svs\n",
      "2023-04-04 20:22:32,893 - INFO - luna.common.utils -  -> Set dsa_endpoint (<class 'str'>) = http://girder:8080/api/v1\n",
      "2023-04-04 20:22:32,895 - INFO - luna.common.utils -  -> Set username (<class 'str'>) = *****\n",
      "2023-04-04 20:22:32,897 - INFO - luna.common.utils -  -> Set password (<class 'str'>) = *****\n",
      "2023-04-04 20:22:32,900 - INFO - luna.common.utils - Expanding inputs...\n",
      "2023-04-04 20:22:32,901 - INFO - luna.common.utils - Full segment key set: {}\n",
      "2023-04-04 20:22:32,903 - INFO - luna.common.utils - ------------------------------------------------------------\n",
      "2023-04-04 20:22:32,903 - INFO - luna.common.utils -  Starting transform::upload_annotation_to_dsa \n",
      "2023-04-04 20:22:32,903 - INFO - luna.common.utils - ------------------------------------------------------------\n",
      "2023-04-04 20:22:33,161 - INFO - luna.pathology.dsa.dsa_api_handler - Successfully connected to DSA\n",
      "2023-04-04 20:22:34,333 - INFO - luna.pathology.dsa.dsa_api_handler - Found collection id=642b13a033dd668f85bbc1ee for collection=TCGA collection\n",
      "Image file 01OV002-bd8cdc70-3d46-40ae-99c4-90ef77.svs found with id: 642b13a033dd668f85bbc1f0\n",
      "2023-04-04 20:22:46,067 - INFO - luna.pathology.dsa.dsa_api_handler - Annotation successfully pushed to DSA.\n",
      "2023-04-04 20:22:46,070 - INFO - luna.pathology.dsa.dsa_api_handler - Time to push annotation 11.727005958557129\n",
      "2023-04-04 20:22:46,072 - INFO - luna.pathology.dsa.dsa_api_handler - http://girder:8080//histomics#?image=642b13a033dd668f85bbc1f0\n",
      "2023-04-04 20:22:46,158 - INFO - luna.common.utils - Code block 'transform::upload_annotation_to_dsa' took: 13.253162581997458s\n",
      "2023-04-04 20:22:46,161 - INFO - luna.common.utils - ------------------------------------------------------------\n",
      "2023-04-04 20:22:46,161 - INFO - luna.common.utils -  Done with transform, running post-transform functions... \n",
      "2023-04-04 20:22:46,161 - INFO - luna.common.utils - ------------------------------------------------------------\n",
      "2023-04-04 20:22:46,165 - INFO - luna.common.utils - Done.\n"
     ]
    }
   ],
   "source": [
    "# generate DSA compatible annotation\n",
    "!dsa bitmask-polygon \\\n",
    "'{\"OTSU\": \"../PRO-12-123/tiling/inference/detect/otsu_mask.png\"}' \\\n",
    "--output_dir ../dsa_annotations/bitmask \\\n",
    "--annotation_name bitmask \\\n",
    "--image_filename 01OV002-bd8cdc70-3d46-40ae-99c4-90ef77.svs \\\n",
    "--line_colors '{\"OTSU\": \"rgb(255,255,0)\"}' \\\n",
    "--fill_colors '{\"OTSU\": \"rgba(255,255,0,100)\"}'\n",
    "\n",
    "# push annotation to DSA\n",
    "!dsa_upload http://girder:8080/api/v1 \\\n",
    "--collection_name 'TCGA collection' \\\n",
    "--image_filename 01OV002-bd8cdc70-3d46-40ae-99c4-90ef77.svs \\\n",
    "--annotation_filepath ../dsa_annotations/bitmask/bitmask_01OV002-bd8cdc70-3d46-40ae-99c4-90ef77.json \\\n",
    "--username admin \\\n",
    "--password password1"
   ]
  },
  {
   "cell_type": "markdown",
   "metadata": {},
   "source": [
    "## Upload bmp results"
   ]
  },
  {
   "cell_type": "markdown",
   "metadata": {},
   "source": [
    "Similary, BMP is another file format that may be used to store segmentation or classification results. **bmp-polygon** converts the bmps to the DSA compatible json annotation."
   ]
  },
  {
   "cell_type": "code",
   "execution_count": 55,
   "metadata": {},
   "outputs": [
    {
     "name": "stdout",
     "output_type": "stream",
     "text": [
      "2023-04-04 20:22:48,174 - INFO - root - Initalized logger, log file at: luna.log\r\n",
      "Usage: dsa bmp-polygon [OPTIONS] INPUT\r\n",
      "\r\n",
      "  Example:\r\n",
      "\r\n",
      "          dsa bmp-polygon\r\n",
      "              results.bmp\r\n",
      "              --output_dir ../dsa_annotations/bmp\r\n",
      "              --annotation_name bmp\r\n",
      "              --image_filename 123.svs\r\n",
      "              --label '{0: \"Tumor\", 1: \"Other\"}'\r\n",
      "              --scale_factor 1\r\n",
      "              --line_colors '{\"Other\": \"rgb(0,255,0)\", \"Tumor\": \"rgb(255,0,0)\"}'\r\n",
      "              --fill_colors '{\"Other\": \"rgba(0,255,0,100)\", \"Tumor\": \"rgba(255,0,0,100)\"}'\r\n",
      "\r\n",
      "Options:\r\n",
      "  -m, --method_param_path TEXT  path to a metadata json/yaml file with method\r\n",
      "                                parameters to reproduce results\r\n",
      "  -sc, --scale_factor TEXT      scale to match image DSA. (default 1)\r\n",
      "  -fc, --fill_colors TEXT       user-provided line color map with {feature\r\n",
      "                                name:rgba values}\r\n",
      "  -lc, --line_colors TEXT       user-provided line color map with {feature\r\n",
      "                                name:rgb values}\r\n",
      "  -a, --annotation_name TEXT    name of the annotation to be displayed in DSA\r\n",
      "  -f, --image_filename TEXT     name of the image file in DSA e.g. 123.svs\r\n",
      "  -o, --output_dir TEXT         directory to save the DSA compatible\r\n",
      "                                annotation json\r\n",
      "  -l, --label TEXT              map of {label_num:label_name}\r\n",
      "  --help                        Show this message and exit.\r\n"
     ]
    }
   ],
   "source": [
    "!dsa bmp-polygon --help"
   ]
  },
  {
   "cell_type": "markdown",
   "metadata": {},
   "source": [
    "## Upload Qupath regional annotation results"
   ]
  },
  {
   "cell_type": "markdown",
   "metadata": {},
   "source": [
    "Regional annotations generated by [Qupath](https://qupath.github.io/) includes regional polygons from object detection along with nuclear properties.\n",
    "\n",
    "For object and cell detection models in QuPath, please checkout our [Qupath/Stardist docker](https://hub.docker.com/r/mskmind/qupath-stardist)."
   ]
  },
  {
   "cell_type": "code",
   "execution_count": 56,
   "metadata": {},
   "outputs": [
    {
     "name": "stdout",
     "output_type": "stream",
     "text": [
      "2023-04-04 20:22:50,291 - INFO - root - Initalized logger, log file at: luna.log\r\n",
      "2023-04-04 20:22:50,294 - INFO - luna.common.utils - Started CLI Runner wtih <function qupath_polygon_main at 0x7f3f6ddf3d30>\r\n",
      "2023-04-04 20:22:50,296 - INFO - luna.common.utils - Validating params...\r\n",
      "2023-04-04 20:22:50,298 - INFO - luna.common.utils -  -> Set fill_colors (<class 'dict'>) = {'Other': 'rgba(0,255,255,100)'}\r\n",
      "2023-04-04 20:22:50,300 - INFO - luna.common.utils -  -> Set line_colors (<class 'dict'>) = {'Other': 'rgb(0,255,255)'}\r\n",
      "2023-04-04 20:22:50,301 - INFO - luna.common.utils -  -> Set annotation_name (<class 'str'>) = quppath\r\n",
      "2023-04-04 20:22:50,302 - INFO - luna.common.utils -  -> Set image_filename (<class 'str'>) = 01OV002-bd8cdc70-3d46-40ae-99c4-90ef77.svs\r\n",
      "2023-04-04 20:22:50,304 - INFO - luna.common.utils -  -> Set output_dir (<class 'str'>) = ../dsa_annotations/quppath\r\n",
      "2023-04-04 20:22:50,305 - INFO - luna.common.utils -  -> Set input (<class 'str'>) = ../PRO-12-123/data/toy_data_set/table/ANNOTATIONS/01OV002-bd8cdc70-3d46-40ae-99c4-90ef77.annotation.geojson\r\n",
      "2023-04-04 20:22:50,307 - INFO - luna.common.utils -  -> Set classes_to_include (<class 'list'>) = ['O', 't', 'h', 'e', 'r']\r\n",
      "2023-04-04 20:22:50,309 - INFO - luna.common.utils - Expanding inputs...\r\n",
      "2023-04-04 20:22:50,311 - INFO - luna.common.utils - Full segment key set: {}\r\n",
      "2023-04-04 20:22:50,312 - INFO - luna.common.utils - ------------------------------------------------------------\r\n",
      "2023-04-04 20:22:50,312 - INFO - luna.common.utils -  Starting transform::qupath_polygon_main \r\n",
      "2023-04-04 20:22:50,312 - INFO - luna.common.utils - ------------------------------------------------------------\r\n",
      "2023-04-04 20:22:50,320 - INFO - luna.common.utils - Code block 'transform::qupath_polygon_main' took: 0.00604663701960817s\r\n",
      "2023-04-04 20:22:50,321 - INFO - luna.common.utils - ------------------------------------------------------------\r\n",
      "2023-04-04 20:22:50,321 - INFO - luna.common.utils -  Done with transform, running post-transform functions... \r\n",
      "2023-04-04 20:22:50,321 - INFO - luna.common.utils - ------------------------------------------------------------\r\n",
      "2023-04-04 20:22:50,327 - INFO - luna.common.utils - Done.\r\n"
     ]
    }
   ],
   "source": [
    "# generate DSA compatible annotation\n",
    "!dsa qupath-polygon \\\n",
    "../PRO-12-123/data/toy_data_set/table/ANNOTATIONS/01OV002-bd8cdc70-3d46-40ae-99c4-90ef77.annotation.geojson \\\n",
    "--output_dir ../dsa_annotations/quppath \\\n",
    "--annotation_name quppath \\\n",
    "--image_filename 01OV002-bd8cdc70-3d46-40ae-99c4-90ef77.svs \\\n",
    "--classes_to_include Other \\\n",
    "--line_colors '{\"Other\": \"rgb(0,255,255)\"}' \\\n",
    "--fill_colors '{\"Other\": \"rgba(0,255,255,100)\"}'"
   ]
  },
  {
   "cell_type": "code",
   "execution_count": 57,
   "metadata": {},
   "outputs": [
    {
     "name": "stdout",
     "output_type": "stream",
     "text": [
      "metadata.yml\n",
      "quppath_01OV002-bd8cdc70-3d46-40ae-99c4-90ef77.json\n"
     ]
    }
   ],
   "source": [
    "%%bash\n",
    "ls ../dsa_annotations/quppath/"
   ]
  },
  {
   "cell_type": "code",
   "execution_count": 58,
   "metadata": {},
   "outputs": [
    {
     "name": "stdout",
     "output_type": "stream",
     "text": [
      "2023-04-04 20:22:51,767 - INFO - root - Initalized logger, log file at: luna.log\n",
      "2023-04-04 20:22:51,769 - INFO - luna.common.utils - Started CLI Runner wtih <function upload_annotation_to_dsa at 0x7f7b153a31f0>\n",
      "2023-04-04 20:22:51,771 - INFO - luna.common.utils - Validating params...\n",
      "2023-04-04 20:22:51,773 - INFO - luna.common.utils -  -> Set annotation_filepath (<class 'str'>) = ../dsa_annotations/quppath/quppath_01OV002-bd8cdc70-3d46-40ae-99c4-90ef77.json\n",
      "2023-04-04 20:22:51,775 - INFO - luna.common.utils -  -> Set collection_name (<class 'str'>) = TCGA collection\n",
      "2023-04-04 20:22:51,776 - INFO - luna.common.utils -  -> Set image_filename (<class 'str'>) = 123.svs\n",
      "2023-04-04 20:22:51,777 - INFO - luna.common.utils -  -> Set dsa_endpoint (<class 'str'>) = http://girder:8080/api/v1\n",
      "2023-04-04 20:22:51,779 - INFO - luna.common.utils -  -> Set username (<class 'str'>) = *****\n",
      "2023-04-04 20:22:51,781 - INFO - luna.common.utils -  -> Set password (<class 'str'>) = *****\n",
      "2023-04-04 20:22:51,782 - INFO - luna.common.utils - Expanding inputs...\n",
      "2023-04-04 20:22:51,783 - INFO - luna.common.utils - Full segment key set: {}\n",
      "2023-04-04 20:22:51,785 - INFO - luna.common.utils - ------------------------------------------------------------\n",
      "2023-04-04 20:22:51,785 - INFO - luna.common.utils -  Starting transform::upload_annotation_to_dsa \n",
      "2023-04-04 20:22:51,785 - INFO - luna.common.utils - ------------------------------------------------------------\n",
      "2023-04-04 20:22:52,036 - INFO - luna.pathology.dsa.dsa_api_handler - Successfully connected to DSA\n",
      "2023-04-04 20:22:52,065 - INFO - luna.pathology.dsa.dsa_api_handler - Found collection id=642b13a033dd668f85bbc1ee for collection=TCGA collection\n",
      "2023-04-04 20:22:52,074 - WARNING - luna.pathology.dsa.dsa_api_handler - Image file 123.svs not found\n",
      "2023-04-04 20:22:52,076 - INFO - luna.common.utils - Code block 'transform::upload_annotation_to_dsa' took: 0.289324740995653s\n",
      "2023-04-04 20:22:52,077 - INFO - luna.common.utils - ------------------------------------------------------------\n",
      "2023-04-04 20:22:52,077 - INFO - luna.common.utils -  Done with transform, running post-transform functions... \n",
      "2023-04-04 20:22:52,077 - INFO - luna.common.utils - ------------------------------------------------------------\n",
      "2023-04-04 20:22:52,079 - INFO - luna.common.utils - Done.\n"
     ]
    }
   ],
   "source": [
    "# push annotation to DSA\n",
    "!dsa_upload http://girder:8080/api/v1 \\\n",
    "--collection_name 'TCGA collection' \\\n",
    "--image_filename 123.svs \\\n",
    "--annotation_filepath ../dsa_annotations/quppath/quppath_01OV002-bd8cdc70-3d46-40ae-99c4-90ef77.json \\\n",
    "--username admin \\\n",
    "--password password1"
   ]
  },
  {
   "cell_type": "markdown",
   "metadata": {},
   "source": [
    "## Upload Stardist object detection results"
   ]
  },
  {
   "cell_type": "markdown",
   "metadata": {},
   "source": [
    "Stardist is a nuclear segmentation algorithm that is quite capable in detecting and segmenting cells/nuclei in pathology images. **stardist-polygon** option converts Stardist object detection results as polygons capturing different types of cells.\n",
    "\n",
    "*Note: this command can take a few minutes if object detection is run on the whole slide.*"
   ]
  },
  {
   "cell_type": "code",
   "execution_count": 59,
   "metadata": {},
   "outputs": [
    {
     "name": "stdout",
     "output_type": "stream",
     "text": [
      "2023-04-04 20:22:54,110 - INFO - root - Initalized logger, log file at: luna.log\n",
      "2023-04-04 20:22:54,113 - INFO - luna.common.utils - Started CLI Runner wtih <function stardist_polygon_main at 0x7f7508c349d0>\n",
      "2023-04-04 20:22:54,114 - INFO - luna.common.utils - Validating params...\n",
      "2023-04-04 20:22:54,116 - INFO - luna.common.utils -  -> Set fill_colors (<class 'dict'>) = {'Other': 'rgba(0,255,0,100)', 'Lymphocyte': 'rgba(255,0,0,100)'}\n",
      "2023-04-04 20:22:54,118 - INFO - luna.common.utils -  -> Set line_colors (<class 'dict'>) = {'Other': 'rgb(0,255,0)', 'Lymphocyte': 'rgb(255,0,0)'}\n",
      "2023-04-04 20:22:54,120 - INFO - luna.common.utils -  -> Set annotation_name (<class 'str'>) = stardist_polygon_segmentations\n",
      "2023-04-04 20:22:54,121 - INFO - luna.common.utils -  -> Set image_filename (<class 'str'>) = 123.svs\n",
      "2023-04-04 20:22:54,123 - INFO - luna.common.utils -  -> Set output_dir (<class 'str'>) = ../dsa_annotations/stardist_polygon\n",
      "2023-04-04 20:22:54,124 - INFO - luna.common.utils -  -> Set input (<class 'str'>) = ../dsa_input/test_object_classification.geojson\n",
      "2023-04-04 20:22:54,127 - INFO - luna.common.utils - Expanding inputs...\n",
      "2023-04-04 20:22:54,129 - INFO - luna.common.utils - Full segment key set: {}\n",
      "2023-04-04 20:22:54,130 - INFO - luna.common.utils - ------------------------------------------------------------\n",
      "2023-04-04 20:22:54,130 - INFO - luna.common.utils -  Starting transform::stardist_polygon_main \n",
      "2023-04-04 20:22:54,130 - INFO - luna.common.utils - ------------------------------------------------------------\n",
      "2023-04-04 20:22:54,138 - INFO - luna.common.utils - Code block 'transform::stardist_polygon_main' took: 0.0055424359743483365s\n",
      "2023-04-04 20:22:54,139 - INFO - luna.common.utils - ------------------------------------------------------------\n",
      "2023-04-04 20:22:54,139 - INFO - luna.common.utils -  Done with transform, running post-transform functions... \n",
      "2023-04-04 20:22:54,139 - INFO - luna.common.utils - ------------------------------------------------------------\n",
      "2023-04-04 20:22:54,144 - INFO - luna.common.utils - Done.\n"
     ]
    }
   ],
   "source": [
    "# generate DSA annotation\n",
    "!dsa stardist-polygon \\\n",
    "../dsa_input/test_object_classification.geojson \\\n",
    "--output_dir ../dsa_annotations/stardist_polygon \\\n",
    "--annotation_name stardist_polygon_segmentations \\\n",
    "--image_filename 123.svs \\\n",
    "--line_colors '{\"Other\": \"rgb(0,255,0)\", \"Lymphocyte\": \"rgb(255,0,0)\"}' \\\n",
    "--fill_colors '{\"Other\": \"rgba(0,255,0,100)\", \"Lymphocyte\": \"rgba(255,0,0,100)\"}'"
   ]
  },
  {
   "cell_type": "code",
   "execution_count": 60,
   "metadata": {},
   "outputs": [
    {
     "name": "stdout",
     "output_type": "stream",
     "text": [
      "{\"description\": \"\", \"elements\": [{\"fillColor\": \"rgba(0,255,0,100)\", \"lineColor\": \"rgb(0,255,0)\", \"lineWidth\": 2, \"type\": \"polyline\", \"closed\": true, \"points\": [[61781.95, 929.31, 0], [61771.77, 932.48, 0], [61763.49, 938.38, 0], [61757.63, 946.76, 0], [61756.68, 949.76, 0], [61756.34, 957.75, 0], [61756.81, 960.34, 0], [61759.75, 967.25, 0], [61761.4, 969.48, 0], [61766.69, 973.96, 0], [61774.61, 976.99, 0], [61776.99, 977.25, 0], [61787.6, 976.28, 0], [61793.96, 974.36, 0], [61803.92, 972.54, 0], [61812.41, 969.1, 0], [61819.84, 962.2, 0], [61821.52, 958.67, 0], [61822.29, 950.5, 0], [61821.42, 947.99, 0], [61816.19, 940.43, 0], [61810.58, 936.37, 0], [61803.19, 933.06, 0], [61793.31, 929.64, 0], [61781.95, 929.31, 0]], \"label\": {\"value\": \"Other\"}}], \"name\": \"stardist_polygon_segmentations\"}"
     ]
    }
   ],
   "source": [
    "# check json annotation\n",
    "!head ../dsa_annotations/stardist_polygon/stardist_polygon_segmentations_123.json"
   ]
  },
  {
   "cell_type": "code",
   "execution_count": 61,
   "metadata": {},
   "outputs": [
    {
     "name": "stdout",
     "output_type": "stream",
     "text": [
      "2023-04-04 20:22:55,897 - INFO - root - Initalized logger, log file at: luna.log\n",
      "2023-04-04 20:22:55,899 - INFO - luna.common.utils - Started CLI Runner wtih <function upload_annotation_to_dsa at 0x7f5f30a001f0>\n",
      "2023-04-04 20:22:55,901 - INFO - luna.common.utils - Validating params...\n",
      "2023-04-04 20:22:55,903 - INFO - luna.common.utils -  -> Set annotation_filepath (<class 'str'>) = ../dsa_annotations/stardist_polygon/stardist_polygon_segmentations_123.json\n",
      "2023-04-04 20:22:55,904 - INFO - luna.common.utils -  -> Set collection_name (<class 'str'>) = TCGA collection\n",
      "2023-04-04 20:22:55,906 - INFO - luna.common.utils -  -> Set image_filename (<class 'str'>) = 123.svs\n",
      "2023-04-04 20:22:55,907 - INFO - luna.common.utils -  -> Set dsa_endpoint (<class 'str'>) = http://girder:8080/api/v1\n",
      "2023-04-04 20:22:55,909 - INFO - luna.common.utils -  -> Set username (<class 'str'>) = *****\n",
      "2023-04-04 20:22:55,910 - INFO - luna.common.utils -  -> Set password (<class 'str'>) = *****\n",
      "2023-04-04 20:22:55,912 - INFO - luna.common.utils - Expanding inputs...\n",
      "2023-04-04 20:22:55,913 - INFO - luna.common.utils - Full segment key set: {}\n",
      "2023-04-04 20:22:55,915 - INFO - luna.common.utils - ------------------------------------------------------------\n",
      "2023-04-04 20:22:55,915 - INFO - luna.common.utils -  Starting transform::upload_annotation_to_dsa \n",
      "2023-04-04 20:22:55,915 - INFO - luna.common.utils - ------------------------------------------------------------\n",
      "2023-04-04 20:22:56,169 - INFO - luna.pathology.dsa.dsa_api_handler - Successfully connected to DSA\n",
      "2023-04-04 20:22:56,195 - INFO - luna.pathology.dsa.dsa_api_handler - Found collection id=642b13a033dd668f85bbc1ee for collection=TCGA collection\n",
      "2023-04-04 20:22:56,204 - WARNING - luna.pathology.dsa.dsa_api_handler - Image file 123.svs not found\n",
      "2023-04-04 20:22:56,207 - INFO - luna.common.utils - Code block 'transform::upload_annotation_to_dsa' took: 0.28980520798359066s\n",
      "2023-04-04 20:22:56,208 - INFO - luna.common.utils - ------------------------------------------------------------\n",
      "2023-04-04 20:22:56,208 - INFO - luna.common.utils -  Done with transform, running post-transform functions... \n",
      "2023-04-04 20:22:56,208 - INFO - luna.common.utils - ------------------------------------------------------------\n",
      "2023-04-04 20:22:56,210 - INFO - luna.common.utils - Done.\n"
     ]
    }
   ],
   "source": [
    "# push annotation to DSA\n",
    "!dsa_upload http://girder:8080/api/v1 \\\n",
    "--collection_name 'TCGA collection' \\\n",
    "--image_filename 123.svs \\\n",
    "--annotation_filepath ../dsa_annotations/stardist_polygon/stardist_polygon_segmentations_123.json \\\n",
    "--username admin \\\n",
    "--password password1"
   ]
  },
  {
   "cell_type": "markdown",
   "metadata": {},
   "source": [
    "This is a screenshot form HistomicsUI, the high-magnification viewer. You can zoom in and view your annotation results with the desired opacity. As specified in `dsa_configs/stardist_polygon_config.yaml`, the red objects are classified as lymphocytes and the green cells are \"other\" cells.\n",
    "\n",
    "![Stardist Polygon Screenshot](../img/stardist-polygon-screenshot.png)\n"
   ]
  },
  {
   "cell_type": "markdown",
   "metadata": {},
   "source": [
    "## Upload Stardist cell detection results\n",
    "\n",
    "Here we use cellular detection results generated from Stardist. The x,y coordinates of the cells in the input TSV file will be visualized as a point, as opposed to a more complex polygon that we saw in the previous step with **stardist-polygon**. You'll notice that the point annotation is faster to upload compared to the polygon represenation of the cells.\n",
    "\n",
    "We also set fill color alpha value to 0 makes annotation upload faster."
   ]
  },
  {
   "cell_type": "code",
   "execution_count": 62,
   "metadata": {},
   "outputs": [
    {
     "name": "stdout",
     "output_type": "stream",
     "text": [
      "2023-04-04 20:22:58,206 - INFO - root - Initalized logger, log file at: luna.log\r\n",
      "2023-04-04 20:22:58,208 - INFO - luna.common.utils - Started CLI Runner wtih <function stardist_cell_main at 0x7f6aa9851c10>\r\n",
      "2023-04-04 20:22:58,210 - INFO - luna.common.utils - Validating params...\r\n",
      "2023-04-04 20:22:58,212 - INFO - luna.common.utils -  -> Set fill_colors (<class 'dict'>) = {'Other': 'rgba(0,255,0,100)', 'Lymphocyte': 'rgba(255,0,0,100)'}\r\n",
      "2023-04-04 20:22:58,214 - INFO - luna.common.utils -  -> Set line_colors (<class 'dict'>) = {'Other': 'rgb(0,255,0)', 'Lymphocyte': 'rgb(255,0,0)'}\r\n",
      "2023-04-04 20:22:58,215 - INFO - luna.common.utils -  -> Set annotation_name (<class 'str'>) = stardist_cell_segmentations\r\n",
      "2023-04-04 20:22:58,216 - INFO - luna.common.utils -  -> Set image_filename (<class 'str'>) = 123.svs\r\n",
      "2023-04-04 20:22:58,218 - INFO - luna.common.utils -  -> Set output_dir (<class 'str'>) = ../dsa_annotations/stardist_cell\r\n",
      "2023-04-04 20:22:58,219 - INFO - luna.common.utils -  -> Set input (<class 'str'>) = ../dsa_input/test_object_detection.tsv\r\n",
      "2023-04-04 20:22:58,222 - INFO - luna.common.utils - Expanding inputs...\r\n",
      "2023-04-04 20:22:58,223 - INFO - luna.common.utils - Full segment key set: {}\r\n",
      "2023-04-04 20:22:58,224 - INFO - luna.common.utils - ------------------------------------------------------------\r\n",
      "2023-04-04 20:22:58,224 - INFO - luna.common.utils -  Starting transform::stardist_cell_main \r\n",
      "2023-04-04 20:22:58,224 - INFO - luna.common.utils - ------------------------------------------------------------\r\n",
      "2023-04-04 20:22:58,235 - INFO - luna.common.utils - Code block 'transform::stardist_cell_main' took: 0.008503869990818202s\r\n",
      "2023-04-04 20:22:58,236 - INFO - luna.common.utils - ------------------------------------------------------------\r\n",
      "2023-04-04 20:22:58,236 - INFO - luna.common.utils -  Done with transform, running post-transform functions... \r\n",
      "2023-04-04 20:22:58,236 - INFO - luna.common.utils - ------------------------------------------------------------\r\n",
      "2023-04-04 20:22:58,241 - INFO - luna.common.utils - Done.\r\n"
     ]
    }
   ],
   "source": [
    "# generate DSA annotation\n",
    "!dsa stardist-cell \\\n",
    "../dsa_input/test_object_detection.tsv \\\n",
    "--output_dir ../dsa_annotations/stardist_cell \\\n",
    "--annotation_name stardist_cell_segmentations \\\n",
    "--image_filename 123.svs \\\n",
    "--line_colors '{\"Other\": \"rgb(0,255,0)\", \"Lymphocyte\": \"rgb(255,0,0)\"}' \\\n",
    "--fill_colors '{\"Other\": \"rgba(0,255,0,100)\", \"Lymphocyte\": \"rgba(255,0,0,100)\"}'"
   ]
  },
  {
   "cell_type": "code",
   "execution_count": 63,
   "metadata": {},
   "outputs": [
    {
     "name": "stdout",
     "output_type": "stream",
     "text": [
      "{\"description\": \"\", \"elements\": [{\"fillColor\": \"rgba(0,255,0,100)\", \"lineColor\": \"rgb(0,255,0)\", \"lineWidth\": 2, \"type\": \"point\", \"center\": [61788.06625424067, 953.4224705647575, 0], \"label\": {\"value\": \"Other\"}}, {\"fillColor\": \"rgba(0,255,0,100)\", \"lineColor\": \"rgb(0,255,0)\", \"lineWidth\": 2, \"type\": \"point\", \"center\": [63033.92536419876, 957.214128916384, 0], \"label\": {\"value\": \"Other\"}}, {\"fillColor\": \"rgba(0,255,0,100)\", \"lineColor\": \"rgb(0,255,0)\", \"lineWidth\": 2, \"type\": \"point\", \"center\": [64150.069846338054, 957.3538215924966, 0], \"label\": {\"value\": \"Other\"}}], \"name\": \"stardist_cell_segmentations\"}"
     ]
    }
   ],
   "source": [
    "# check json annotation\n",
    "!head ../dsa_annotations/stardist_cell/stardist_cell_segmentations_123.json"
   ]
  },
  {
   "cell_type": "code",
   "execution_count": 64,
   "metadata": {},
   "outputs": [
    {
     "name": "stdout",
     "output_type": "stream",
     "text": [
      "2023-04-04 20:23:00,004 - INFO - root - Initalized logger, log file at: luna.log\n",
      "2023-04-04 20:23:00,006 - INFO - luna.common.utils - Started CLI Runner wtih <function upload_annotation_to_dsa at 0x7fcb7982f1f0>\n",
      "2023-04-04 20:23:00,008 - INFO - luna.common.utils - Validating params...\n",
      "2023-04-04 20:23:00,009 - INFO - luna.common.utils -  -> Set annotation_filepath (<class 'str'>) = ../dsa_annotations/stardist_cell/stardist_cell_segmentations_123.json\n",
      "2023-04-04 20:23:00,011 - INFO - luna.common.utils -  -> Set collection_name (<class 'str'>) = TCGA collection\n",
      "2023-04-04 20:23:00,013 - INFO - luna.common.utils -  -> Set image_filename (<class 'str'>) = 123.svs\n",
      "2023-04-04 20:23:00,014 - INFO - luna.common.utils -  -> Set dsa_endpoint (<class 'str'>) = http://girder:8080/api/v1\n",
      "2023-04-04 20:23:00,016 - INFO - luna.common.utils -  -> Set username (<class 'str'>) = *****\n",
      "2023-04-04 20:23:00,017 - INFO - luna.common.utils -  -> Set password (<class 'str'>) = *****\n",
      "2023-04-04 20:23:00,019 - INFO - luna.common.utils - Expanding inputs...\n",
      "2023-04-04 20:23:00,021 - INFO - luna.common.utils - Full segment key set: {}\n",
      "2023-04-04 20:23:00,022 - INFO - luna.common.utils - ------------------------------------------------------------\n",
      "2023-04-04 20:23:00,022 - INFO - luna.common.utils -  Starting transform::upload_annotation_to_dsa \n",
      "2023-04-04 20:23:00,022 - INFO - luna.common.utils - ------------------------------------------------------------\n",
      "2023-04-04 20:23:00,267 - INFO - luna.pathology.dsa.dsa_api_handler - Successfully connected to DSA\n",
      "2023-04-04 20:23:00,294 - INFO - luna.pathology.dsa.dsa_api_handler - Found collection id=642b13a033dd668f85bbc1ee for collection=TCGA collection\n",
      "2023-04-04 20:23:00,302 - WARNING - luna.pathology.dsa.dsa_api_handler - Image file 123.svs not found\n",
      "2023-04-04 20:23:00,304 - INFO - luna.common.utils - Code block 'transform::upload_annotation_to_dsa' took: 0.2807252639904618s\n",
      "2023-04-04 20:23:00,306 - INFO - luna.common.utils - ------------------------------------------------------------\n",
      "2023-04-04 20:23:00,306 - INFO - luna.common.utils -  Done with transform, running post-transform functions... \n",
      "2023-04-04 20:23:00,306 - INFO - luna.common.utils - ------------------------------------------------------------\n",
      "2023-04-04 20:23:00,308 - INFO - luna.common.utils - Done.\n"
     ]
    }
   ],
   "source": [
    "# push annotation to DSA\n",
    "!dsa_upload  http://girder:8080/api/v1 \\\n",
    "--collection_name 'TCGA collection' \\\n",
    "--image_filename 123.svs \\\n",
    "--annotation_filepath ../dsa_annotations/stardist_cell/stardist_cell_segmentations_123.json \\\n",
    "--username admin \\\n",
    "--password password1"
   ]
  },
  {
   "cell_type": "markdown",
   "metadata": {},
   "source": [
    "Below is another screenshot from HistomicsUI, from the link printed above. The results are the same as **stardist-polygon** visualization. Notice the cells are captured more minimally as circles, and not polygons. For rapid prototyping, **stardist-cell** offers faster annotation upload speed compared to **stardist-polygon**.\n",
    "\n",
    "![Stardist Cell Screenshot](../img/stardist-cell-screenshot.png)"
   ]
  },
  {
   "cell_type": "markdown",
   "metadata": {},
   "source": [
    "Congratulations! Now you can visualize your annotations and results on DSA platform."
   ]
  },
  {
   "cell_type": "code",
   "execution_count": null,
   "metadata": {},
   "outputs": [],
   "source": []
  }
 ],
 "metadata": {
  "kernelspec": {
   "display_name": "Python 3 (ipykernel)",
   "language": "python",
   "name": "python3"
  },
  "language_info": {
   "codemirror_mode": {
    "name": "ipython",
    "version": 3
   },
   "file_extension": ".py",
   "mimetype": "text/x-python",
   "name": "python",
   "nbconvert_exporter": "python",
   "pygments_lexer": "ipython3",
   "version": "3.9.16"
  }
 },
 "nbformat": 4,
 "nbformat_minor": 4
}
