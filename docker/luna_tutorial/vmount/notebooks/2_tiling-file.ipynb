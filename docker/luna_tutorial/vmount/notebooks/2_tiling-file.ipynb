{
 "cells": [
  {
   "cell_type": "markdown",
   "metadata": {},
   "source": [
    "# Tile Generation Tutorial (File Edition)"
   ]
  },
  {
   "cell_type": "markdown",
   "metadata": {},
   "source": [
    "Welcome to the tile generation tutorial!\n",
    "\n",
    "As a whole slide image is too large for deep learning model training, a slide is often divded into a set of small tiles, and used for training. For tile-based whole slide image analysis, generating tiles and labels is an important and laborious step. With LUNA tiling CLIs and tutorials, you can easily generate tile labels and get your data ready for downstream analysis. In this notebook, we will see how to generate tiles and labels using LUNA tiling CLIs. Here are the main steps we will review:\n",
    "\n",
    "1. Load slides\n",
    "2. Generate tiles, labels\n",
    "3. Collect tiles for model training\n",
    "\n",
    "Through out this notebook, we will use different method parameter files. Please refer to the example parameter files in the `configs` directory to follow these steps.\n"
   ]
  },
  {
   "cell_type": "code",
   "execution_count": 1,
   "metadata": {},
   "outputs": [],
   "source": [
    "import os\n",
    "HOME = os.environ['HOME']\n",
    "LUNA_HOME = f\"{HOME}/vmount\"\n",
    "PROJECT = \"PRO-12-123\"\n",
    "SLIDE_ID = \"01OV002-bd8cdc70-3d46-40ae-99c4-90ef77\"\n",
    "\n",
    "DATASET_DIR = f\"{LUNA_HOME}/{PROJECT}/data/toy_data_set\"\n",
    "ANNOTATION_DIR = f\"{DATASET_DIR}/table/ANNOTATIONS\"\n",
    "TILING_DIR = f\"{LUNA_HOME}/{PROJECT}/tiling\"\n",
    "SLIDE = f\"{DATASET_DIR}/{SLIDE_ID}.svs\""
   ]
  },
  {
   "cell_type": "markdown",
   "metadata": {},
   "source": [
    "Initially, we'll walk through each CLI step manually-- then run them using the Luna CLI client in parallel\n",
    "\n",
    "First, we generate tiles given a slide image of size 128 at 20x, and save them"
   ]
  },
  {
   "cell_type": "code",
   "execution_count": 2,
   "metadata": {},
   "outputs": [
    {
     "name": "stdout",
     "output_type": "stream",
     "text": [
      "saving to /home/pollardw/vmount/PRO-12-123/tiling/test/tiles/01OV002-bd8cdc70-3d46-40ae-99c4-90ef77.tiles.parquet\n",
      "\u001b[32m2023-08-03 02:29:40.526\u001b[0m | \u001b[34m\u001b[1mDEBUG   \u001b[0m | \u001b[36mluna.common.utils\u001b[0m:\u001b[36mwrapper\u001b[0m:\u001b[36m146\u001b[0m - \u001b[34m\u001b[1mcli ran in 9.95s\u001b[0m\n"
     ]
    }
   ],
   "source": [
    "!generate_tiles {SLIDE} \\\n",
    "--tile_size 128 \\\n",
    "--requested_magnification 10 \\\n",
    "--output-urlpath {TILING_DIR}/test/tiles"
   ]
  },
  {
   "cell_type": "code",
   "execution_count": 3,
   "metadata": {},
   "outputs": [
    {
     "name": "stdout",
     "output_type": "stream",
     "text": [
      "\u001b[32m2023-08-03 02:29:44.980\u001b[0m | \u001b[1mINFO    \u001b[0m | \u001b[36mluna.pathology.cli.run_tissue_detection\u001b[0m:\u001b[36mdetect_tissue\u001b[0m:\u001b[36m282\u001b[0m - \u001b[1mSlide dimensions (53760, 54840)\u001b[0m\n",
      "\u001b[32m2023-08-03 02:29:44.980\u001b[0m | \u001b[1mINFO    \u001b[0m | \u001b[36mluna.pathology.cli.run_tissue_detection\u001b[0m:\u001b[36mdetect_tissue\u001b[0m:\u001b[36m286\u001b[0m - \u001b[1mThumbnail scale factor: 20\u001b[0m\n",
      "\u001b[32m2023-08-03 02:29:47.116\u001b[0m | \u001b[34m\u001b[1mDEBUG   \u001b[0m | \u001b[36mluna.common.utils\u001b[0m:\u001b[36mwrapper\u001b[0m:\u001b[36m146\u001b[0m - \u001b[34m\u001b[1mget_downscaled_thumbnail ran in 2.14s\u001b[0m\n",
      "\u001b[32m2023-08-03 02:29:47.117\u001b[0m | \u001b[1mINFO    \u001b[0m | \u001b[36mluna.pathology.cli.run_tissue_detection\u001b[0m:\u001b[36mdetect_tissue\u001b[0m:\u001b[36m289\u001b[0m - \u001b[1mSample array size: (2742, 2688, 3)\u001b[0m\n",
      "\u001b[32m2023-08-03 02:29:47.123\u001b[0m | \u001b[1mINFO    \u001b[0m | \u001b[36mluna.pathology.cli.run_tissue_detection\u001b[0m:\u001b[36mdetect_tissue\u001b[0m:\u001b[36m292\u001b[0m - \u001b[1mSlide dimensions (53760, 54840)\u001b[0m\n",
      "\u001b[32m2023-08-03 02:29:47.124\u001b[0m | \u001b[1mINFO    \u001b[0m | \u001b[36mluna.pathology.cli.run_tissue_detection\u001b[0m:\u001b[36mdetect_tissue\u001b[0m:\u001b[36m296\u001b[0m - \u001b[1mThumbnail scale factor: 20\u001b[0m\n",
      "\u001b[32m2023-08-03 02:29:49.334\u001b[0m | \u001b[34m\u001b[1mDEBUG   \u001b[0m | \u001b[36mluna.common.utils\u001b[0m:\u001b[36mwrapper\u001b[0m:\u001b[36m146\u001b[0m - \u001b[34m\u001b[1mget_downscaled_thumbnail ran in 2.21s\u001b[0m\n",
      "\u001b[32m2023-08-03 02:29:49.334\u001b[0m | \u001b[1mINFO    \u001b[0m | \u001b[36mluna.pathology.cli.run_tissue_detection\u001b[0m:\u001b[36mdetect_tissue\u001b[0m:\u001b[36m299\u001b[0m - \u001b[1mSample array size: (2742, 2688, 3)\u001b[0m\n",
      "\u001b[32m2023-08-03 02:29:50.509\u001b[0m | \u001b[1mINFO    \u001b[0m | \u001b[36mluna.pathology.cli.run_tissue_detection\u001b[0m:\u001b[36mdetect_tissue\u001b[0m:\u001b[36m307\u001b[0m - \u001b[1mEnhancing image...\u001b[0m\n",
      "\u001b[32m2023-08-03 02:29:51.597\u001b[0m | \u001b[1mINFO    \u001b[0m | \u001b[36mluna.pathology.cli.run_tissue_detection\u001b[0m:\u001b[36mdetect_tissue\u001b[0m:\u001b[36m319\u001b[0m - \u001b[1mHSV space conversion...\u001b[0m\n",
      "\u001b[32m2023-08-03 02:29:53.011\u001b[0m | \u001b[1mINFO    \u001b[0m | \u001b[36mluna.pathology.cli.run_tissue_detection\u001b[0m:\u001b[36mdetect_tissue\u001b[0m:\u001b[36m329\u001b[0m - \u001b[1mCalculating max saturation...\u001b[0m\n",
      "\u001b[32m2023-08-03 02:29:53.597\u001b[0m | \u001b[1mINFO    \u001b[0m | \u001b[36mluna.pathology.cli.run_tissue_detection\u001b[0m:\u001b[36mdetect_tissue\u001b[0m:\u001b[36m339\u001b[0m - \u001b[1mCalculate and filter shadow mask...\u001b[0m\n",
      "\u001b[32m2023-08-03 02:29:54.267\u001b[0m | \u001b[1mINFO    \u001b[0m | \u001b[36mluna.pathology.cli.run_tissue_detection\u001b[0m:\u001b[36mdetect_tissue\u001b[0m:\u001b[36m347\u001b[0m - \u001b[1mFilter out shadow/dust/etc...\u001b[0m\n",
      "\u001b[32m2023-08-03 02:29:55.782\u001b[0m | \u001b[1mINFO    \u001b[0m | \u001b[36mluna.pathology.cli.run_tissue_detection\u001b[0m:\u001b[36mdetect_tissue\u001b[0m:\u001b[36m359\u001b[0m - \u001b[1mCalculating otsu threshold...\u001b[0m\n",
      "\u001b[32m2023-08-03 02:29:56.107\u001b[0m | \u001b[1mINFO    \u001b[0m | \u001b[36mluna.pathology.cli.run_tissue_detection\u001b[0m:\u001b[36mdetect_tissue\u001b[0m:\u001b[36m362\u001b[0m - \u001b[1mCalculating stain vectors...\u001b[0m\n",
      "\u001b[32m2023-08-03 02:29:57.876\u001b[0m | \u001b[1mINFO    \u001b[0m | \u001b[36mluna.pathology.cli.run_tissue_detection\u001b[0m:\u001b[36mdetect_tissue\u001b[0m:\u001b[36m365\u001b[0m - \u001b[1mCalculating stain background thresholds...\u001b[0m\n",
      "\u001b[32m2023-08-03 02:29:57.876\u001b[0m | \u001b[1mINFO    \u001b[0m | \u001b[36mluna.pathology.cli.run_tissue_detection\u001b[0m:\u001b[36mdetect_tissue\u001b[0m:\u001b[36m366\u001b[0m - \u001b[1mChannel 0\u001b[0m\n",
      "\u001b[32m2023-08-03 02:30:00.109\u001b[0m | \u001b[1mINFO    \u001b[0m | \u001b[36mluna.pathology.cli.run_tissue_detection\u001b[0m:\u001b[36mdetect_tissue\u001b[0m:\u001b[36m372\u001b[0m - \u001b[1mChannel 1\u001b[0m\n",
      "\u001b[32m2023-08-03 02:30:02.053\u001b[0m | \u001b[1mINFO    \u001b[0m | \u001b[36mluna.pathology.cli.run_tissue_detection\u001b[0m:\u001b[36mdetect_tissue\u001b[0m:\u001b[36m381\u001b[0m - \u001b[1mSaving otsu mask\u001b[0m\n",
      "\u001b[32m2023-08-03 02:30:02.681\u001b[0m | \u001b[1mINFO    \u001b[0m | \u001b[36mluna.pathology.cli.run_tissue_detection\u001b[0m:\u001b[36mdetect_tissue\u001b[0m:\u001b[36m391\u001b[0m - \u001b[1mSaving stain thumbnail\u001b[0m\n",
      "\u001b[32m2023-08-03 02:30:05.850\u001b[0m | \u001b[1mINFO    \u001b[0m | \u001b[36mluna.pathology.cli.run_tissue_detection\u001b[0m:\u001b[36mdetect_tissue\u001b[0m:\u001b[36m398\u001b[0m - \u001b[1mSaving stain masks\u001b[0m\n",
      "\u001b[32m2023-08-03 02:30:06.770\u001b[0m | \u001b[1mINFO    \u001b[0m | \u001b[36mluna.pathology.cli.run_tissue_detection\u001b[0m:\u001b[36mdetect_tissue\u001b[0m:\u001b[36m421\u001b[0m - \u001b[1mStarting otsu thresholding, threshold=0.7305114077818627\u001b[0m\n",
      "\u001b[32m2023-08-03 02:31:22.478\u001b[0m | \u001b[1mINFO    \u001b[0m | \u001b[36mluna.pathology.cli.run_tissue_detection\u001b[0m:\u001b[36mdetect_tissue\u001b[0m:\u001b[36m468\u001b[0m - \u001b[1mFiltering based on query: otsu_score > 0.1\u001b[0m\n",
      "\u001b[32m2023-08-03 02:31:22.487\u001b[0m | \u001b[1mINFO    \u001b[0m | \u001b[36mluna.pathology.cli.run_tissue_detection\u001b[0m:\u001b[36mdetect_tissue\u001b[0m:\u001b[36m471\u001b[0m - \u001b[1m                                                 address  ...  otsu_score\n",
      "01OV002-bd8cdc70-3d46-40ae-99c4-90ef77 292    x3_y81_z10  ...        0.12\n",
      "                                       295    x3_y84_z10  ...        0.16\n",
      "                                       296    x3_y85_z10  ...        0.32\n",
      "                                       297    x3_y86_z10  ...        0.64\n",
      "                                       298    x3_y87_z10  ...        0.43\n",
      "...                                                  ...  ...         ...\n",
      "                                       9816  x93_y65_z10  ...        0.32\n",
      "                                       9817  x93_y66_z10  ...        0.34\n",
      "                                       9818  x93_y67_z10  ...        0.58\n",
      "                                       9819  x93_y68_z10  ...        0.68\n",
      "                                       9820  x93_y69_z10  ...        0.33\n",
      "\n",
      "[5088 rows x 8 columns]\u001b[0m\n",
      "saving to /home/pollardw/vmount/PRO-12-123/tiling/test/detect/01OV002-bd8cdc70-3d46-40ae-99c4-90ef77.tiles.parquet\n",
      "\u001b[32m2023-08-03 02:31:22.559\u001b[0m | \u001b[34m\u001b[1mDEBUG   \u001b[0m | \u001b[36mluna.common.utils\u001b[0m:\u001b[36mwrapper\u001b[0m:\u001b[36m146\u001b[0m - \u001b[34m\u001b[1mcli ran in 97.81s\u001b[0m\n"
     ]
    }
   ],
   "source": [
    "!detect_tissue {SLIDE} \\\n",
    "{TILING_DIR}/test/tiles/01OV002-bd8cdc70-3d46-40ae-99c4-90ef77.tiles.parquet \\\n",
    "--requested_magnification 2 \\\n",
    "--filter_query \"otsu_score > 0.1\" \\\n",
    "--output-urlpath {TILING_DIR}/test/detect"
   ]
  },
  {
   "cell_type": "code",
   "execution_count": 4,
   "metadata": {},
   "outputs": [
    {
     "name": "stdout",
     "output_type": "stream",
     "text": [
      "\u001b[32m2023-08-03 02:31:25.464\u001b[0m | \u001b[1mINFO    \u001b[0m | \u001b[36mluna.pathology.cli.generate_tile_labels\u001b[0m:\u001b[36mgenerate_tile_labels\u001b[0m:\u001b[36m88\u001b[0m - \u001b[1mslide_id=01OV002-bd8cdc70-3d46-40ae-99c4-90ef77\u001b[0m\n",
      "/home/pollardw/vmount/PRO-12-123/data/toy_data_set/table/ANNOTATIONS/01OV002-bd8cdc70-3d46-40ae-99c4-90ef77.annotation.geojson TCGA collection ov_regional\n",
      "100%|█████████████████████████████████████| 5088/5088 [00:00<00:00, 6020.64it/s]\n",
      "\u001b[32m2023-08-03 02:31:26.365\u001b[0m | \u001b[1mINFO    \u001b[0m | \u001b[36mluna.pathology.cli.generate_tile_labels\u001b[0m:\u001b[36mgenerate_tile_labels\u001b[0m:\u001b[36m157\u001b[0m - \u001b[1m                                            level_0  ...  intersection_area\n",
      "address                                              ...                   \n",
      "x26_y56_z10  01OV002-bd8cdc70-3d46-40ae-99c4-90ef77  ...           0.053094\n",
      "x26_y57_z10  01OV002-bd8cdc70-3d46-40ae-99c4-90ef77  ...           0.341454\n",
      "x27_y56_z10  01OV002-bd8cdc70-3d46-40ae-99c4-90ef77  ...           0.655530\n",
      "x27_y57_z10  01OV002-bd8cdc70-3d46-40ae-99c4-90ef77  ...           0.898266\n",
      "x28_y55_z10  01OV002-bd8cdc70-3d46-40ae-99c4-90ef77  ...           0.258913\n",
      "...                                             ...  ...                ...\n",
      "x65_y72_z10  01OV002-bd8cdc70-3d46-40ae-99c4-90ef77  ...           0.419049\n",
      "x65_y73_z10  01OV002-bd8cdc70-3d46-40ae-99c4-90ef77  ...           0.553953\n",
      "x65_y74_z10  01OV002-bd8cdc70-3d46-40ae-99c4-90ef77  ...           0.102413\n",
      "x66_y70_z10  01OV002-bd8cdc70-3d46-40ae-99c4-90ef77  ...           0.187448\n",
      "x66_y71_z10  01OV002-bd8cdc70-3d46-40ae-99c4-90ef77  ...           0.062544\n",
      "\n",
      "[170 rows x 11 columns]\u001b[0m\n",
      "\u001b[32m2023-08-03 02:31:26.395\u001b[0m | \u001b[34m\u001b[1mDEBUG   \u001b[0m | \u001b[36mluna.common.utils\u001b[0m:\u001b[36mwrapper\u001b[0m:\u001b[36m146\u001b[0m - \u001b[34m\u001b[1mcli ran in 0.93s\u001b[0m\n"
     ]
    }
   ],
   "source": [
    "!label_tiles \\\n",
    "\"{DATASET_DIR}/table/ANNOTATIONS/slide_annotation_dataset_TCGA collection_ov_regional.parquet\" \\\n",
    "\"{TILING_DIR}/test/detect/{SLIDE_ID}.tiles.parquet\" \\\n",
    "{SLIDE_ID} \\\n",
    "--output-urlpath \"{TILING_DIR}/test/label\""
   ]
  },
  {
   "cell_type": "code",
   "execution_count": 5,
   "metadata": {
    "scrolled": false
   },
   "outputs": [
    {
     "name": "stdout",
     "output_type": "stream",
     "text": [
      "\u001b[32m2023-08-03 02:31:30.548\u001b[0m | \u001b[1mINFO    \u001b[0m | \u001b[36mluna.pathology.cli.save_tiles\u001b[0m:\u001b[36msave_tiles\u001b[0m:\u001b[36m127\u001b[0m - \u001b[1mNow generating tiles with batch_size=200!\u001b[0m\n",
      "Traceback (most recent call last):       ] | 0% Completed |  0.4s\u001b[2K\n",
      "  File \"/opt/conda/bin/save_tiles\", line 8, in <module>\n",
      "    sys.exit(fire_cli())\n",
      "  File \"/opt/conda/lib/python3.9/site-packages/luna/pathology/cli/save_tiles.py\", line 176, in fire_cli\n",
      "    fire.Fire(cli)\n",
      "  File \"/opt/conda/lib/python3.9/site-packages/fire/core.py\", line 141, in Fire\n",
      "    component_trace = _Fire(component, args, parsed_flag_args, context, name)\n",
      "  File \"/opt/conda/lib/python3.9/site-packages/fire/core.py\", line 475, in _Fire\n",
      "    component, remaining_args = _CallAndUpdateTrace(\n",
      "  File \"/opt/conda/lib/python3.9/site-packages/fire/core.py\", line 691, in _CallAndUpdateTrace\n",
      "    component = fn(*varargs, **kwargs)\n",
      "  File \"/opt/conda/lib/python3.9/site-packages/luna/common/utils.py\", line 144, in wrapper\n",
      "    result = func(*args, **kwargs)\n",
      "  File \"/opt/conda/lib/python3.9/site-packages/luna/common/utils.py\", line 65, in wrapper\n",
      "    result = func(*args, **kwargs)\n",
      "  File \"/opt/conda/lib/python3.9/site-packages/luna/pathology/cli/save_tiles.py\", line 76, in cli\n",
      "    df = save_tiles(\n",
      "  File \"/opt/conda/lib/python3.9/site-packages/luna/common/utils.py\", line 126, in wrapper\n",
      "    result = func(**new_args_dict)\n",
      "  File \"/opt/conda/lib/python3.9/site-packages/luna/pathology/cli/save_tiles.py\", line 128, in save_tiles\n",
      "    df = _save_tiles(df, slide_urlpath, output_urlpath, batch_size, storage_options, output_storage_options)\n",
      "  File \"/opt/conda/lib/python3.9/site-packages/luna/common/utils.py\", line 126, in wrapper\n",
      "    result = func(**new_args_dict)\n",
      "  File \"/opt/conda/lib/python3.9/site-packages/luna/pathology/cli/save_tiles.py\", line 168, in _save_tiles\n",
      "    for result in future.result():\n",
      "  File \"/opt/conda/lib/python3.9/site-packages/distributed/client.py\", line 284, in result\n",
      "    raise exc.with_traceback(tb)\n",
      "  File \"/opt/conda/lib/python3.9/site-packages/luna/pathology/cli/save_tiles.py\", line 153, in f_many\n",
      "    return [\n",
      "  File \"/opt/conda/lib/python3.9/site-packages/luna/pathology/cli/save_tiles.py\", line 155, in <listcomp>\n",
      "    x.address,\n",
      "AttributeError: 'Tile' object has no attribute 'address'\n"
     ]
    }
   ],
   "source": [
    "!save_tiles {SLIDE} \\\n",
    "{TILING_DIR}/test/label/{SLIDE_ID}.regional_label.tiles.parquet \\\n",
    "--num_cores 4 \\\n",
    "--batch_size 200 \\\n",
    "--dataset-id PRO_TILES \\\n",
    "--output-urlpath {TILING_DIR}/test/saved_tiles"
   ]
  },
  {
   "cell_type": "code",
   "execution_count": 6,
   "metadata": {
    "scrolled": false
   },
   "outputs": [],
   "source": [
    "from luna.common.utils import LunaCliClient\n",
    "\n",
    "def pipeline (slide_id, input_slide, input_annotations):\n",
    "    client = LunaCliClient(\"~/vmount/PRO-12-123/2_tiling-file\", slide_id)\n",
    "    \n",
    "    client.bootstrap(\"slide\", input_slide)\n",
    "    client.bootstrap(\"annotations\", input_annotations)\n",
    "    \n",
    "    client.configure(\"generate_tiles\", \"slide\", \n",
    "        tile_size=128, \n",
    "        requested_magnification=10\n",
    "    ).run(\"source_tiles\")\n",
    "\n",
    "    client.configure(\"detect_tissue\", \"slide\", \"source_tiles\",\n",
    "        filter_query=\"otsu_score > 0.1\", \n",
    "        requested_magnification=2\n",
    "    ).run(\"detected_tiles\")\n",
    "\n",
    "    client.configure(\"label_tiles\", \"annotations\", \"detected_tiles\").run(\"labled_tiles\")\n",
    "\n",
    "    client.configure( \"save_tiles\", \"slide\", \"labled_tiles\",\n",
    "        num_cores=4, batch_size=200, dataset_id='PRO_TILES_LABELED'\n",
    "    ).run(\"saved_tiles\")"
   ]
  },
  {
   "cell_type": "code",
   "execution_count": 7,
   "metadata": {
    "scrolled": true
   },
   "outputs": [
    {
     "name": "stdout",
     "output_type": "stream",
     "text": [
      "0\n"
     ]
    },
    {
     "ename": "AttributeError",
     "evalue": "'Series' object has no attribute 'slide_image'",
     "output_type": "error",
     "traceback": [
      "\u001b[0;31m---------------------------------------------------------------------------\u001b[0m",
      "\u001b[0;31mAttributeError\u001b[0m                            Traceback (most recent call last)",
      "Cell \u001b[0;32mIn[7], line 11\u001b[0m\n\u001b[1;32m      8\u001b[0m \u001b[38;5;28;01mfor\u001b[39;00m index, row \u001b[38;5;129;01min\u001b[39;00m df_slides\u001b[38;5;241m.\u001b[39miterrows():\n\u001b[1;32m      9\u001b[0m     \u001b[38;5;28mprint\u001b[39m (index)\n\u001b[0;32m---> 11\u001b[0m     pool\u001b[38;5;241m.\u001b[39msubmit(pipeline, index, \u001b[43mrow\u001b[49m\u001b[38;5;241;43m.\u001b[39;49m\u001b[43mslide_image\u001b[49m, \u001b[38;5;124m\"\u001b[39m\u001b[38;5;124m../PRO-12-123/data/toy_data_set/table/ANNOTATIONS\u001b[39m\u001b[38;5;124m\"\u001b[39m)\n",
      "File \u001b[0;32m/opt/conda/lib/python3.9/site-packages/pandas/core/generic.py:5902\u001b[0m, in \u001b[0;36mNDFrame.__getattr__\u001b[0;34m(self, name)\u001b[0m\n\u001b[1;32m   5895\u001b[0m \u001b[38;5;28;01mif\u001b[39;00m (\n\u001b[1;32m   5896\u001b[0m     name \u001b[38;5;129;01mnot\u001b[39;00m \u001b[38;5;129;01min\u001b[39;00m \u001b[38;5;28mself\u001b[39m\u001b[38;5;241m.\u001b[39m_internal_names_set\n\u001b[1;32m   5897\u001b[0m     \u001b[38;5;129;01mand\u001b[39;00m name \u001b[38;5;129;01mnot\u001b[39;00m \u001b[38;5;129;01min\u001b[39;00m \u001b[38;5;28mself\u001b[39m\u001b[38;5;241m.\u001b[39m_metadata\n\u001b[1;32m   5898\u001b[0m     \u001b[38;5;129;01mand\u001b[39;00m name \u001b[38;5;129;01mnot\u001b[39;00m \u001b[38;5;129;01min\u001b[39;00m \u001b[38;5;28mself\u001b[39m\u001b[38;5;241m.\u001b[39m_accessors\n\u001b[1;32m   5899\u001b[0m     \u001b[38;5;129;01mand\u001b[39;00m \u001b[38;5;28mself\u001b[39m\u001b[38;5;241m.\u001b[39m_info_axis\u001b[38;5;241m.\u001b[39m_can_hold_identifiers_and_holds_name(name)\n\u001b[1;32m   5900\u001b[0m ):\n\u001b[1;32m   5901\u001b[0m     \u001b[38;5;28;01mreturn\u001b[39;00m \u001b[38;5;28mself\u001b[39m[name]\n\u001b[0;32m-> 5902\u001b[0m \u001b[38;5;28;01mreturn\u001b[39;00m \u001b[38;5;28;43mobject\u001b[39;49m\u001b[38;5;241;43m.\u001b[39;49m\u001b[38;5;21;43m__getattribute__\u001b[39;49m\u001b[43m(\u001b[49m\u001b[38;5;28;43mself\u001b[39;49m\u001b[43m,\u001b[49m\u001b[43m \u001b[49m\u001b[43mname\u001b[49m\u001b[43m)\u001b[49m\n",
      "\u001b[0;31mAttributeError\u001b[0m: 'Series' object has no attribute 'slide_image'"
     ]
    }
   ],
   "source": [
    "from concurrent.futures import ThreadPoolExecutor\n",
    "import pandas as pd\n",
    "\n",
    "df_slides = pd.read_parquet(\"../PRO-12-123/data/toy_data_set/table/SLIDES/slide_ingest_PRO-12-123.parquet\")\n",
    "        \n",
    "with ThreadPoolExecutor(5) as pool:\n",
    "    \n",
    "    for index, row in df_slides.iterrows():\n",
    "        print (index)\n",
    "        \n",
    "        pool.submit(pipeline, index, row.slide_image, \"../PRO-12-123/data/toy_data_set/table/ANNOTATIONS\")\n",
    "        "
   ]
  },
  {
   "cell_type": "code",
   "execution_count": null,
   "metadata": {},
   "outputs": [],
   "source": [
    "import pandas as pd\n",
    "df_tiles = pd.read_parquet(\"~/vmount/PRO-12-123/datasets/PRO_TILES_LABELED/\").query(\"intersection_area > 0\")\n",
    "print (df_tiles['regional_label'].value_counts())\n",
    "df_tiles"
   ]
  },
  {
   "cell_type": "markdown",
   "metadata": {},
   "source": [
    "Congratulations! Now you have 2120 tumor, 860 stroma, and 751 fat tiles images and labels ready to train your model."
   ]
  }
 ],
 "metadata": {
  "kernelspec": {
   "display_name": "Python 3 (ipykernel)",
   "language": "python",
   "name": "python3"
  },
  "language_info": {
   "codemirror_mode": {
    "name": "ipython",
    "version": 3
   },
   "file_extension": ".py",
   "mimetype": "text/x-python",
   "name": "python",
   "nbconvert_exporter": "python",
   "pygments_lexer": "ipython3",
   "version": "3.9.16"
  }
 },
 "nbformat": 4,
 "nbformat_minor": 4
}
