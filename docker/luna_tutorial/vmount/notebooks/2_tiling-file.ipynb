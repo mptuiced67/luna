{
 "cells": [
  {
   "cell_type": "markdown",
   "metadata": {},
   "source": [
    "# Tile Generation Tutorial (File Edition)"
   ]
  },
  {
   "cell_type": "markdown",
   "metadata": {},
   "source": [
    "Welcome to the tile generation tutorial!\n",
    "\n",
    "As a whole slide image is too large for deep learning model training, a slide is often divded into a set of small tiles, and used for training. For tile-based whole slide image analysis, generating tiles and labels is an important and laborious step. With LUNA tiling CLIs and tutorials, you can easily generate tile labels and get your data ready for downstream analysis. In this notebook, we will see how to generate tiles and labels using LUNA tiling CLIs. Here are the main steps we will review:\n",
    "\n",
    "1. Load slides\n",
    "2. Generate tiles, labels\n",
    "3. Collect tiles for model training\n",
    "\n",
    "Through out this notebook, we will use different method parameter files. Please refer to the example parameter files in the `configs` directory to follow these steps.\n"
   ]
  },
  {
   "cell_type": "code",
   "execution_count": 5,
   "metadata": {},
   "outputs": [],
   "source": [
    "import os\n",
    "HOME = os.environ['HOME']\n",
    "LUNA_HOME = f\"{HOME}/vmount\"\n",
    "PROJECT = \"PRO-12-123\"\n",
    "SLIDE_ID = \"01OV002-bd8cdc70-3d46-40ae-99c4-90ef77\"\n",
    "\n",
    "DATASET_DIR = f\"{LUNA_HOME}/{PROJECT}/data/toy_data_set\"\n",
    "ANNOTATION_DIR = f\"{DATASET_DIR}/table/ANNOTATIONS\"\n",
    "TILING_DIR = f\"{LUNA_HOME}/{PROJECT}/tiling\"\n",
    "SLIDE = f\"{DATASET_DIR}/{SLIDE_ID}.svs\""
   ]
  },
  {
   "cell_type": "code",
   "execution_count": 6,
   "metadata": {
    "scrolled": true
   },
   "outputs": [],
   "source": [
    "# env DATASET_URL=file:///$LUNA_HOME/PRO-12-123/"
   ]
  },
  {
   "cell_type": "markdown",
   "metadata": {},
   "source": [
    "Initially, we'll walk through each CLI step manually-- then run them using the Luna CLI client in parallel\n",
    "\n",
    "First, we generate tiles given a slide image of size 128 at 20x, and save them"
   ]
  },
  {
   "cell_type": "code",
   "execution_count": 7,
   "metadata": {},
   "outputs": [
    {
     "name": "stdout",
     "output_type": "stream",
     "text": [
      "/opt/conda/lib/python3.9/site-packages/distributed/node.py:182: UserWarning: Port 8787 is already in use.\n",
      "Perhaps you already have a cluster running?\n",
      "Hosting the HTTP server on port 42858 instead\n",
      "  warnings.warn(\n",
      "saving to /home/pollardw/vmount/PRO-12-123/tiling/test/tiles/01OV002-bd8cdc70-3d46-40ae-99c4-90ef77.tiles.parquet\n",
      "\u001b[32m2023-07-31 13:50:20.002\u001b[0m | \u001b[34m\u001b[1mDEBUG   \u001b[0m | \u001b[36mluna.common.utils\u001b[0m:\u001b[36mwrapper\u001b[0m:\u001b[36m146\u001b[0m - \u001b[34m\u001b[1mcli ran in 14.88s\u001b[0m\n",
      "2023-07-31 13:50:20,018 - distributed.worker - ERROR - Failed to communicate with scheduler during heartbeat.\n",
      "Traceback (most recent call last):\n",
      "  File \"/opt/conda/lib/python3.9/site-packages/distributed/comm/tcp.py\", line 225, in read\n",
      "    frames_nbytes = await stream.read_bytes(fmt_size)\n",
      "tornado.iostream.StreamClosedError: Stream is closed\n",
      "\n",
      "The above exception was the direct cause of the following exception:\n",
      "\n",
      "Traceback (most recent call last):\n",
      "  File \"/opt/conda/lib/python3.9/site-packages/distributed/worker.py\", line 1215, in heartbeat\n",
      "    response = await retry_operation(\n",
      "  File \"/opt/conda/lib/python3.9/site-packages/distributed/utils_comm.py\", line 400, in retry_operation\n",
      "    return await retry(\n",
      "  File \"/opt/conda/lib/python3.9/site-packages/distributed/utils_comm.py\", line 385, in retry\n",
      "    return await coro()\n",
      "  File \"/opt/conda/lib/python3.9/site-packages/distributed/core.py\", line 1221, in send_recv_from_rpc\n",
      "    return await send_recv(comm=comm, op=key, **kwargs)\n",
      "  File \"/opt/conda/lib/python3.9/site-packages/distributed/core.py\", line 986, in send_recv\n",
      "    response = await comm.read(deserializers=deserializers)\n",
      "  File \"/opt/conda/lib/python3.9/site-packages/distributed/comm/tcp.py\", line 241, in read\n",
      "    convert_stream_closed_error(self, e)\n",
      "  File \"/opt/conda/lib/python3.9/site-packages/distributed/comm/tcp.py\", line 144, in convert_stream_closed_error\n",
      "    raise CommClosedError(f\"in {obj}: {exc}\") from exc\n",
      "distributed.comm.core.CommClosedError: in <TCP (closed) ConnectionPool.heartbeat_worker local=tcp://127.0.0.1:48028 remote=tcp://127.0.0.1:34908>: Stream is closed\n"
     ]
    }
   ],
   "source": [
    "!generate_tiles {SLIDE} \\\n",
    "--tile_size 128 \\\n",
    "--requested_magnification 10 \\\n",
    "--output-urlpath {TILING_DIR}/test/tiles"
   ]
  },
  {
   "cell_type": "markdown",
   "metadata": {},
   "source": [
    "# ! ls -1 {TILING_DIR}/test/tiles"
   ]
  },
  {
   "cell_type": "code",
   "execution_count": null,
   "metadata": {},
   "outputs": [],
   "source": [
    "!detect_tissue {SLIDE} \\\n",
    "{TILING_DIR}/test/tiles/01OV002-bd8cdc70-3d46-40ae-99c4-90ef77.tiles.parquet \\\n",
    "--requested_magnification 2 \\\n",
    "--filter_query \"otsu_score > 0.1\" \\\n",
    "--output-urlpath {TILING_DIR}/test/detect"
   ]
  },
  {
   "cell_type": "code",
   "execution_count": null,
   "metadata": {
    "scrolled": true
   },
   "outputs": [],
   "source": [
    "!ls {TILING_DIR}/test/detect"
   ]
  },
  {
   "cell_type": "code",
   "execution_count": null,
   "metadata": {},
   "outputs": [],
   "source": [
    "!ls {DATASET_DIR}/table/ANNOTATIONS"
   ]
  },
  {
   "cell_type": "code",
   "execution_count": null,
   "metadata": {},
   "outputs": [],
   "source": [
    "!label_tiles --help"
   ]
  },
  {
   "cell_type": "code",
   "execution_count": null,
   "metadata": {},
   "outputs": [],
   "source": [
    "!label_tiles \\\n",
    "\"{DATASET_DIR}/table/ANNOTATIONS/slide_annotation_dataset_TCGA collection_ov_regional.parquet\" \\\n",
    "\"{TILING_DIR}/test/detect/{SLIDE_ID}-filtered.tiles.parquet\" \\\n",
    "{SLIDE_ID} \\\n",
    "--output-urlpath \"{TILING_DIR}/test/label\""
   ]
  },
  {
   "cell_type": "code",
   "execution_count": null,
   "metadata": {
    "scrolled": false
   },
   "outputs": [],
   "source": [
    "!save_tiles {SLIDE} \\\n",
    "{TILING_DIR}/test/label \\\n",
    "--num_cores 4 \\\n",
    "--batch_size 200 \\\n",
    "--dataset-id PRO_TILES \\\n",
    "--output-urlpath {TILING_DIR}/test/saved_tiles"
   ]
  },
  {
   "cell_type": "code",
   "execution_count": null,
   "metadata": {
    "scrolled": false
   },
   "outputs": [],
   "source": [
    "from luna.common.utils import LunaCliClient\n",
    "\n",
    "def pipeline (slide_id, input_slide, input_annotations):\n",
    "    client = LunaCliClient(\"~/vmount/PRO-12-123/2_tiling-file\", slide_id)\n",
    "    \n",
    "    client.bootstrap(\"slide\", input_slide)\n",
    "    client.bootstrap(\"annotations\", input_annotations)\n",
    "    \n",
    "    client.configure(\"generate_tiles\", \"slide\", \n",
    "        tile_size=128, \n",
    "        requested_magnification=10\n",
    "    ).run(\"source_tiles\")\n",
    "\n",
    "    client.configure(\"detect_tissue\", \"slide\", \"source_tiles\",\n",
    "        filter_query=\"otsu_score > 0.1\", \n",
    "        requested_magnification=2\n",
    "    ).run(\"detected_tiles\")\n",
    "\n",
    "    client.configure(\"label_tiles\", \"annotations\", \"detected_tiles\").run(\"labled_tiles\")\n",
    "\n",
    "    client.configure( \"save_tiles\", \"slide\", \"labled_tiles\",\n",
    "        num_cores=4, batch_size=200, dataset_id='PRO_TILES_LABELED'\n",
    "    ).run(\"saved_tiles\")"
   ]
  },
  {
   "cell_type": "code",
   "execution_count": null,
   "metadata": {
    "scrolled": true
   },
   "outputs": [],
   "source": [
    "from concurrent.futures import ThreadPoolExecutor\n",
    "import pandas as pd\n",
    "\n",
    "df_slides = pd.read_parquet(\"../PRO-12-123/data/toy_data_set/table/SLIDES/slide_ingest_PRO-12-123.parquet\")\n",
    "        \n",
    "with ThreadPoolExecutor(5) as pool:\n",
    "    \n",
    "    for index, row in df_slides.iterrows():\n",
    "        print (index)\n",
    "        \n",
    "        pool.submit(pipeline, index, row.slide_image, \"../PRO-12-123/data/toy_data_set/table/ANNOTATIONS\")\n",
    "        "
   ]
  },
  {
   "cell_type": "code",
   "execution_count": null,
   "metadata": {},
   "outputs": [],
   "source": [
    "import pandas as pd\n",
    "df_tiles = pd.read_parquet(\"~/vmount/PRO-12-123/datasets/PRO_TILES_LABELED/\").query(\"intersection_area > 0\")\n",
    "print (df_tiles['regional_label'].value_counts())\n",
    "df_tiles"
   ]
  },
  {
   "cell_type": "markdown",
   "metadata": {},
   "source": [
    "Congratulations! Now you have 2120 tumor, 860 stroma, and 751 fat tiles images and labels ready to train your model."
   ]
  }
 ],
 "metadata": {
  "kernelspec": {
   "display_name": "Python 3 (ipykernel)",
   "language": "python",
   "name": "python3"
  },
  "language_info": {
   "codemirror_mode": {
    "name": "ipython",
    "version": 3
   },
   "file_extension": ".py",
   "mimetype": "text/x-python",
   "name": "python",
   "nbconvert_exporter": "python",
   "pygments_lexer": "ipython3",
   "version": "3.9.16"
  }
 },
 "nbformat": 4,
 "nbformat_minor": 4
}
