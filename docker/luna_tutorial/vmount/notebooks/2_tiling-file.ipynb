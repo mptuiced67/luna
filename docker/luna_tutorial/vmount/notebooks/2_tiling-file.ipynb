{
 "cells": [
  {
   "cell_type": "markdown",
   "metadata": {},
   "source": [
    "# Tile Generation Tutorial (File Edition)"
   ]
  },
  {
   "cell_type": "markdown",
   "metadata": {},
   "source": [
    "Welcome to the tile generation tutorial!\n",
    "\n",
    "As a whole slide image is too large for deep learning model training, a slide is often divded into a set of small tiles, and used for training. For tile-based whole slide image analysis, generating tiles and labels is an important and laborious step. With LUNA tiling CLIs and tutorials, you can easily generate tile labels and get your data ready for downstream analysis. In this notebook, we will see how to generate tiles and labels using LUNA tiling CLIs. Here are the main steps we will review:\n",
    "\n",
    "1. Load slides\n",
    "2. Generate tiles, labels\n",
    "3. Collect tiles for model training\n",
    "\n",
    "Through out this notebook, we will use different method parameter files. Please refer to the example parameter files in the `configs` directory to follow these steps.\n"
   ]
  },
  {
   "cell_type": "code",
   "execution_count": 1,
   "metadata": {},
   "outputs": [],
   "source": [
    "import os\n",
    "HOME = os.environ['HOME']\n",
    "LUNA_HOME = f\"{HOME}/vmount\"\n",
    "PROJECT = \"PRO-12-123\"\n",
    "SLIDE_ID = \"01OV002-bd8cdc70-3d46-40ae-99c4-90ef77\"\n",
    "\n",
    "DATASET_DIR = f\"{LUNA_HOME}/{PROJECT}/data/toy_data_set\"\n",
    "ANNOTATION_DIR = f\"{DATASET_DIR}/table/ANNOTATIONS\"\n",
    "TILING_DIR = f\"{LUNA_HOME}/{PROJECT}/tiling\"\n",
    "SLIDE = f\"{DATASET_DIR}/{SLIDE_ID}.svs\""
   ]
  },
  {
   "cell_type": "code",
   "execution_count": 2,
   "metadata": {
    "scrolled": true
   },
   "outputs": [],
   "source": [
    "# env DATASET_URL=file:///$LUNA_HOME/PRO-12-123/"
   ]
  },
  {
   "cell_type": "markdown",
   "metadata": {},
   "source": [
    "Initially, we'll walk through each CLI step manually-- then run them using the Luna CLI client in parallel\n",
    "\n",
    "First, we generate tiles given a slide image of size 128 at 20x, and save them"
   ]
  },
  {
   "cell_type": "code",
   "execution_count": 3,
   "metadata": {},
   "outputs": [
    {
     "name": "stdout",
     "output_type": "stream",
     "text": [
      "saving to /home/pollardw/vmount/PRO-12-123/tiling/test/tiles/01OV002-bd8cdc70-3d46-40ae-99c4-90ef77.tiles.parquet\n",
      "\u001b[32m2023-07-25 19:41:18.866\u001b[0m | \u001b[34m\u001b[1mDEBUG   \u001b[0m | \u001b[36mluna.common.utils\u001b[0m:\u001b[36mwrapper\u001b[0m:\u001b[36m127\u001b[0m - \u001b[34m\u001b[1mcli ran in 10.79s\u001b[0m\n"
     ]
    }
   ],
   "source": [
    "!generate_tiles {SLIDE} \\\n",
    "--tile_size 128 \\\n",
    "--requested_magnification 10 \\\n",
    "--output-urlpath {TILING_DIR}/test/tiles"
   ]
  },
  {
   "cell_type": "code",
   "execution_count": null,
   "metadata": {},
   "outputs": [],
   "source": [
    "! ls -1 {TILING_DIR}/test/tiles"
   ]
  },
  {
   "cell_type": "code",
   "execution_count": 4,
   "metadata": {},
   "outputs": [
    {
     "name": "stdout",
     "output_type": "stream",
     "text": [
      "\u001b[32m2023-07-25 19:41:44.646\u001b[0m | \u001b[1mINFO    \u001b[0m | \u001b[36mluna.pathology.cli.run_tissue_detection\u001b[0m:\u001b[36mdetect_tissue\u001b[0m:\u001b[36m269\u001b[0m - \u001b[1mSlide dimensions (53760, 54840)\u001b[0m\n",
      "\u001b[32m2023-07-25 19:41:44.646\u001b[0m | \u001b[1mINFO    \u001b[0m | \u001b[36mluna.pathology.cli.run_tissue_detection\u001b[0m:\u001b[36mdetect_tissue\u001b[0m:\u001b[36m273\u001b[0m - \u001b[1mThumbnail scale factor: 20\u001b[0m\n",
      "\u001b[32m2023-07-25 19:41:46.792\u001b[0m | \u001b[34m\u001b[1mDEBUG   \u001b[0m | \u001b[36mluna.common.utils\u001b[0m:\u001b[36mwrapper\u001b[0m:\u001b[36m127\u001b[0m - \u001b[34m\u001b[1mget_downscaled_thumbnail ran in 2.15s\u001b[0m\n",
      "\u001b[32m2023-07-25 19:41:46.793\u001b[0m | \u001b[1mINFO    \u001b[0m | \u001b[36mluna.pathology.cli.run_tissue_detection\u001b[0m:\u001b[36mdetect_tissue\u001b[0m:\u001b[36m276\u001b[0m - \u001b[1mSample array size: (2742, 2688, 3)\u001b[0m\n",
      "\u001b[32m2023-07-25 19:42:03.847\u001b[0m | \u001b[1mINFO    \u001b[0m | \u001b[36mluna.pathology.cli.run_tissue_detection\u001b[0m:\u001b[36mdetect_tissue\u001b[0m:\u001b[36m390\u001b[0m - \u001b[1mStarting otsu thresholding, threshold=0.7305114077818627\u001b[0m\n",
      "\u001b[32m2023-07-25 19:48:43.251\u001b[0m | \u001b[1mINFO    \u001b[0m | \u001b[36mluna.pathology.cli.run_tissue_detection\u001b[0m:\u001b[36mdetect_tissue\u001b[0m:\u001b[36m453\u001b[0m - \u001b[1mFiltering based on query: otsu_score > 0.1\u001b[0m\n",
      "\u001b[32m2023-07-25 19:48:43.255\u001b[0m | \u001b[1mINFO    \u001b[0m | \u001b[36mluna.pathology.cli.run_tissue_detection\u001b[0m:\u001b[36mdetect_tissue\u001b[0m:\u001b[36m456\u001b[0m - \u001b[1m                                                 address  ...  otsu_score\n",
      "01OV002-bd8cdc70-3d46-40ae-99c4-90ef77 292    x3_y81_z10  ...        0.12\n",
      "                                       295    x3_y84_z10  ...        0.16\n",
      "                                       296    x3_y85_z10  ...        0.32\n",
      "                                       297    x3_y86_z10  ...        0.64\n",
      "                                       298    x3_y87_z10  ...        0.43\n",
      "...                                                  ...  ...         ...\n",
      "                                       9816  x93_y65_z10  ...        0.32\n",
      "                                       9817  x93_y66_z10  ...        0.34\n",
      "                                       9818  x93_y67_z10  ...        0.58\n",
      "                                       9819  x93_y68_z10  ...        0.68\n",
      "                                       9820  x93_y69_z10  ...        0.33\n",
      "\n",
      "[5088 rows x 8 columns]\u001b[0m\n",
      "saving to /home/pollardw/vmount/PRO-12-123/tiling/test/detect/01OV002-bd8cdc70-3d46-40ae-99c4-90ef77-filtered.tiles.parquet\n",
      "\u001b[32m2023-07-25 19:48:43.677\u001b[0m | \u001b[34m\u001b[1mDEBUG   \u001b[0m | \u001b[36mluna.common.utils\u001b[0m:\u001b[36mwrapper\u001b[0m:\u001b[36m127\u001b[0m - \u001b[34m\u001b[1mcli ran in 419.13s\u001b[0m\n"
     ]
    }
   ],
   "source": [
    "!detect_tissue {SLIDE} \\\n",
    "{TILING_DIR}/test/tiles/01OV002-bd8cdc70-3d46-40ae-99c4-90ef77.tiles.parquet \\\n",
    "--requested_magnification 2 \\\n",
    "--filter_query \"otsu_score > 0.1\" \\\n",
    "--output-urlpath {TILING_DIR}/test/detect"
   ]
  },
  {
   "cell_type": "code",
   "execution_count": null,
   "metadata": {
    "scrolled": true
   },
   "outputs": [],
   "source": [
    "!ls {TILING_DIR}/test/detect"
   ]
  },
  {
   "cell_type": "code",
   "execution_count": null,
   "metadata": {},
   "outputs": [],
   "source": [
    "!ls {DATASET_DIR}/table/ANNOTATIONS"
   ]
  },
  {
   "cell_type": "code",
   "execution_count": 9,
   "metadata": {},
   "outputs": [
    {
     "name": "stdout",
     "output_type": "stream",
     "text": [
      "INFO: Showing help with the command 'label_tiles -- --help'.\n",
      "\n",
      "\u001b[1mNAME\u001b[0m\n",
      "    label_tiles - Queries the dataset at input_slide_annotation_dataset for a slide_id matching input_slide_tiles\n",
      "\n",
      "\u001b[1mSYNOPSIS\u001b[0m\n",
      "    label_tiles <flags>\n",
      "\n",
      "\u001b[1mDESCRIPTION\u001b[0m\n",
      "    Adds regional_label, intersection_area columns to slide tiles, where the former is the annotation label, and the latter the fraction of intersecting area between the tile and annotation regions\n",
      "\n",
      "\u001b[1mFLAGS\u001b[0m\n",
      "    -a, --annotation_urlpath=\u001b[4mANNOTATION_URLPATH\u001b[0m\n",
      "        Type: str\n",
      "        Default: '???'\n",
      "        url/path to parquet annotation dataset\n",
      "    -t, --tiles_urlpath=\u001b[4mTILES_URLPATH\u001b[0m\n",
      "        Type: str\n",
      "        Default: '???'\n",
      "        url/path to a slide-tile manifest file (.tiles.parquet)\n",
      "    --slide_id=\u001b[4mSLIDE_ID\u001b[0m\n",
      "        Type: str\n",
      "        Default: '???'\n",
      "        slide ID\n",
      "    --output_urlpath=\u001b[4mOUTPUT_URLPATH\u001b[0m\n",
      "        Type: str\n",
      "        Default: '???'\n",
      "        output url/path prefix\n",
      "    --storage_options=\u001b[4mSTORAGE_OPTIONS\u001b[0m\n",
      "        Type: dict\n",
      "        Default: {}\n",
      "        options to pass to reading functions\n",
      "    --output_storage_options=\u001b[4mOUTPUT_STORAGE_OPTIONS\u001b[0m\n",
      "        Type: dict\n",
      "        Default: {}\n",
      "        options to pass to writing functions\n",
      "    -l, --local_config=\u001b[4mLOCAL_CONFIG\u001b[0m\n",
      "        Type: str\n",
      "        Default: ''\n",
      "        url/path to local config YAML file\n"
     ]
    }
   ],
   "source": [
    "!label_tiles --help"
   ]
  },
  {
   "cell_type": "code",
   "execution_count": 16,
   "metadata": {},
   "outputs": [
    {
     "name": "stdout",
     "output_type": "stream",
     "text": [
      "\u001b[32m2023-07-25 20:08:40.312\u001b[0m | \u001b[1mINFO    \u001b[0m | \u001b[36mluna.pathology.cli.generate_tile_labels\u001b[0m:\u001b[36mgenerate_tile_labels\u001b[0m:\u001b[36m88\u001b[0m - \u001b[1mslide_id=01OV002-bd8cdc70-3d46-40ae-99c4-90ef77\u001b[0m\n",
      "/home/pollardw/vmount/PRO-12-123/data/toy_data_set/table/ANNOTATIONS/01OV002-bd8cdc70-3d46-40ae-99c4-90ef77.annotation.geojson TCGA collection ov_regional\n",
      "100%|█████████████████████████████████████| 5088/5088 [00:00<00:00, 5805.50it/s]\n",
      "\u001b[32m2023-07-25 20:08:41.238\u001b[0m | \u001b[1mINFO    \u001b[0m | \u001b[36mluna.pathology.cli.generate_tile_labels\u001b[0m:\u001b[36mgenerate_tile_labels\u001b[0m:\u001b[36m157\u001b[0m - \u001b[1m                                            level_0  ...  intersection_area\n",
      "address                                              ...                   \n",
      "x26_y56_z10  01OV002-bd8cdc70-3d46-40ae-99c4-90ef77  ...           0.053094\n",
      "x26_y57_z10  01OV002-bd8cdc70-3d46-40ae-99c4-90ef77  ...           0.341454\n",
      "x27_y56_z10  01OV002-bd8cdc70-3d46-40ae-99c4-90ef77  ...           0.655530\n",
      "x27_y57_z10  01OV002-bd8cdc70-3d46-40ae-99c4-90ef77  ...           0.898266\n",
      "x28_y55_z10  01OV002-bd8cdc70-3d46-40ae-99c4-90ef77  ...           0.258913\n",
      "...                                             ...  ...                ...\n",
      "x65_y72_z10  01OV002-bd8cdc70-3d46-40ae-99c4-90ef77  ...           0.419049\n",
      "x65_y73_z10  01OV002-bd8cdc70-3d46-40ae-99c4-90ef77  ...           0.553953\n",
      "x65_y74_z10  01OV002-bd8cdc70-3d46-40ae-99c4-90ef77  ...           0.102413\n",
      "x66_y70_z10  01OV002-bd8cdc70-3d46-40ae-99c4-90ef77  ...           0.187448\n",
      "x66_y71_z10  01OV002-bd8cdc70-3d46-40ae-99c4-90ef77  ...           0.062544\n",
      "\n",
      "[170 rows x 11 columns]\u001b[0m\n",
      "\u001b[32m2023-07-25 20:08:41.268\u001b[0m | \u001b[34m\u001b[1mDEBUG   \u001b[0m | \u001b[36mluna.common.utils\u001b[0m:\u001b[36mwrapper\u001b[0m:\u001b[36m127\u001b[0m - \u001b[34m\u001b[1mcli ran in 0.96s\u001b[0m\n"
     ]
    }
   ],
   "source": [
    "!label_tiles \\\n",
    "\"{DATASET_DIR}/table/ANNOTATIONS/slide_annotation_dataset_TCGA collection_ov_regional.parquet\" \\\n",
    "\"{TILING_DIR}/test/detect/{SLIDE_ID}-filtered.tiles.parquet\" \\\n",
    "{SLIDE_ID} \\\n",
    "--output-urlpath \"{TILING_DIR}/test/label\""
   ]
  },
  {
   "cell_type": "code",
   "execution_count": 17,
   "metadata": {
    "scrolled": false
   },
   "outputs": [
    {
     "name": "stdout",
     "output_type": "stream",
     "text": [
      "Traceback (most recent call last):\r\n",
      "  File \"/opt/conda/bin/save_tiles\", line 8, in <module>\r\n",
      "    sys.exit(fire_cli())\r\n",
      "  File \"/opt/conda/lib/python3.9/site-packages/luna/pathology/cli/save_tiles.py\", line 146, in fire_cli\r\n",
      "    fire.Fire(cli)\r\n",
      "  File \"/opt/conda/lib/python3.9/site-packages/fire/core.py\", line 141, in Fire\r\n",
      "    component_trace = _Fire(component, args, parsed_flag_args, context, name)\r\n",
      "  File \"/opt/conda/lib/python3.9/site-packages/fire/core.py\", line 475, in _Fire\r\n",
      "    component, remaining_args = _CallAndUpdateTrace(\r\n",
      "  File \"/opt/conda/lib/python3.9/site-packages/fire/core.py\", line 691, in _CallAndUpdateTrace\r\n",
      "    component = fn(*varargs, **kwargs)\r\n",
      "  File \"/opt/conda/lib/python3.9/site-packages/luna/common/utils.py\", line 125, in wrapper\r\n",
      "    result = func(*args, **kwargs)\r\n",
      "  File \"/opt/conda/lib/python3.9/site-packages/luna/common/utils.py\", line 44, in wrapper\r\n",
      "    result = func(*args, **kwargs)\r\n",
      "  File \"/opt/conda/lib/python3.9/site-packages/luna/pathology/cli/save_tiles.py\", line 49, in cli\r\n",
      "    df = save_tiles(\r\n",
      "  File \"/opt/conda/lib/python3.9/site-packages/luna/pathology/cli/save_tiles.py\", line 105, in save_tiles\r\n",
      "    df = generate_tiles(\r\n",
      "  File \"/opt/conda/lib/python3.9/site-packages/multimethod/__init__.py\", line 313, in __call__\r\n",
      "    func = self[tuple(func(arg) for func, arg in zip(self.type_checkers, args))]\r\n",
      "  File \"/opt/conda/lib/python3.9/site-packages/multimethod/__init__.py\", line 307, in __missing__\r\n",
      "    raise DispatchError(msg, types, keys)\r\n",
      "multimethod.DispatchError: ('generate_tiles: 0 methods found', (<class 'str'>, <class 'str'>), [])\r\n"
     ]
    }
   ],
   "source": [
    "!save_tiles {SLIDE} \\\n",
    "{TILING_DIR}/test/label \\\n",
    "--num_cores 4 \\\n",
    "--batch_size 200 \\\n",
    "--dataset-id PRO_TILES \\\n",
    "--output-urlpath {TILING_DIR}/test/saved_tiles"
   ]
  },
  {
   "cell_type": "code",
   "execution_count": null,
   "metadata": {
    "scrolled": false
   },
   "outputs": [],
   "source": [
    "from luna.common.utils import LunaCliClient\n",
    "\n",
    "def pipeline (slide_id, input_slide, input_annotations):\n",
    "    client = LunaCliClient(\"~/vmount/PRO-12-123/2_tiling-file\", slide_id)\n",
    "    \n",
    "    client.bootstrap(\"slide\", input_slide)\n",
    "    client.bootstrap(\"annotations\", input_annotations)\n",
    "    \n",
    "    client.configure(\"generate_tiles\", \"slide\", \n",
    "        tile_size=128, \n",
    "        requested_magnification=10\n",
    "    ).run(\"source_tiles\")\n",
    "\n",
    "    client.configure(\"detect_tissue\", \"slide\", \"source_tiles\",\n",
    "        filter_query=\"otsu_score > 0.1\", \n",
    "        requested_magnification=2\n",
    "    ).run(\"detected_tiles\")\n",
    "\n",
    "    client.configure(\"label_tiles\", \"annotations\", \"detected_tiles\").run(\"labled_tiles\")\n",
    "\n",
    "    client.configure( \"save_tiles\", \"slide\", \"labled_tiles\",\n",
    "        num_cores=4, batch_size=200, dataset_id='PRO_TILES_LABELED'\n",
    "    ).run(\"saved_tiles\")"
   ]
  },
  {
   "cell_type": "code",
   "execution_count": null,
   "metadata": {
    "scrolled": true
   },
   "outputs": [],
   "source": [
    "from concurrent.futures import ThreadPoolExecutor\n",
    "import pandas as pd\n",
    "\n",
    "df_slides = pd.read_parquet(\"../PRO-12-123/data/toy_data_set/table/SLIDES/slide_ingest_PRO-12-123.parquet\")\n",
    "        \n",
    "with ThreadPoolExecutor(5) as pool:\n",
    "    \n",
    "    for index, row in df_slides.iterrows():\n",
    "        print (index)\n",
    "        \n",
    "        pool.submit(pipeline, index, row.slide_image, \"../PRO-12-123/data/toy_data_set/table/ANNOTATIONS\")\n",
    "        "
   ]
  },
  {
   "cell_type": "code",
   "execution_count": null,
   "metadata": {},
   "outputs": [],
   "source": [
    "import pandas as pd\n",
    "df_tiles = pd.read_parquet(\"~/vmount/PRO-12-123/datasets/PRO_TILES_LABELED/\").query(\"intersection_area > 0\")\n",
    "print (df_tiles['regional_label'].value_counts())\n",
    "df_tiles"
   ]
  },
  {
   "cell_type": "markdown",
   "metadata": {},
   "source": [
    "Congratulations! Now you have 2120 tumor, 860 stroma, and 751 fat tiles images and labels ready to train your model."
   ]
  }
 ],
 "metadata": {
  "kernelspec": {
   "display_name": "Python 3 (ipykernel)",
   "language": "python",
   "name": "python3"
  },
  "language_info": {
   "codemirror_mode": {
    "name": "ipython",
    "version": 3
   },
   "file_extension": ".py",
   "mimetype": "text/x-python",
   "name": "python",
   "nbconvert_exporter": "python",
   "pygments_lexer": "ipython3",
   "version": "3.9.16"
  }
 },
 "nbformat": 4,
 "nbformat_minor": 4
}
